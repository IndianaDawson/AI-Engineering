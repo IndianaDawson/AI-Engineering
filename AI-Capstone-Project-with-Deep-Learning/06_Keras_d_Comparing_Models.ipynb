{
    "cells": [
        {
            "cell_type": "markdown",
            "metadata": {
                "button": false,
                "new_sheet": false,
                "run_control": {
                    "read_only": false
                }
            },
            "source": "<h1 align=center><font size = 5>Peer Review Final Assignment</font></h1>"
        },
        {
            "cell_type": "markdown",
            "metadata": {
                "button": false,
                "new_sheet": false,
                "run_control": {
                    "read_only": false
                }
            },
            "source": "## Introduction\n"
        },
        {
            "cell_type": "markdown",
            "metadata": {
                "button": false,
                "new_sheet": false,
                "run_control": {
                    "read_only": false
                }
            },
            "source": "In this lab, you will build an image classifier using the VGG16 pre-trained model, and you will evaluate it and compare its performance to the model we built in the last module using the ResNet50 pre-trained model. Good luck!"
        },
        {
            "cell_type": "markdown",
            "metadata": {},
            "source": "## Download Data"
        },
        {
            "cell_type": "markdown",
            "metadata": {},
            "source": "Use the <code>wget</code> command to download the data for this assignment from here: https://s3-api.us-geo.objectstorage.softlayer.net/cf-courses-data/CognitiveClass/DL0321EN/data/concrete_data_week4.zip"
        },
        {
            "cell_type": "markdown",
            "metadata": {},
            "source": "Use the following cells to download the data."
        },
        {
            "cell_type": "code",
            "execution_count": 1,
            "metadata": {},
            "outputs": [
                {
                    "name": "stdout",
                    "output_type": "stream",
                    "text": "--2020-09-09 20:24:10--  https://s3-api.us-geo.objectstorage.softlayer.net/cf-courses-data/CognitiveClass/DL0321EN/data/concrete_data_week4.zip\nResolving s3-api.us-geo.objectstorage.softlayer.net (s3-api.us-geo.objectstorage.softlayer.net)... 67.228.254.196\nConnecting to s3-api.us-geo.objectstorage.softlayer.net (s3-api.us-geo.objectstorage.softlayer.net)|67.228.254.196|:443... connected.\nHTTP request sent, awaiting response... 200 OK\nLength: 261483817 (249M) [application/zip]\nSaving to: \u2018concrete_data_week4.zip.1\u2019\n\n100%[======================================>] 261,483,817 33.7MB/s   in 6.7s   \n\n2020-09-09 20:24:17 (37.4 MB/s) - \u2018concrete_data_week4.zip.1\u2019 saved [261483817/261483817]\n\n"
                }
            ],
            "source": "!wget https://s3-api.us-geo.objectstorage.softlayer.net/cf-courses-data/CognitiveClass/DL0321EN/data/concrete_data_week4.zip"
        },
        {
            "cell_type": "code",
            "execution_count": 2,
            "metadata": {},
            "outputs": [
                {
                    "name": "stdout",
                    "output_type": "stream",
                    "text": "Archive:  concrete_data_week4.zip\r\n"
                }
            ],
            "source": "!unzip -n concrete_data_week4.zip"
        },
        {
            "cell_type": "markdown",
            "metadata": {},
            "source": "After you unzip the data, you fill find the data has already been divided into a train, validation, and test sets."
        },
        {
            "cell_type": "markdown",
            "metadata": {},
            "source": "## Part 1"
        },
        {
            "cell_type": "markdown",
            "metadata": {},
            "source": "In this part, you will design a classifier using the VGG16 pre-trained model. Just like the ResNet50 model, you can import the model <code>VGG16</code> from <code>keras.applications</code>."
        },
        {
            "cell_type": "markdown",
            "metadata": {},
            "source": "You will essentially build your classifier as follows:\n1. Import libraries, modules, and packages you will need. Make sure to import the *preprocess_input* function from <code>keras.applications.vgg16</code>.\n2. Use a batch size of 100 images for both training and validation.\n3. Construct an ImageDataGenerator for the training set and another one for the validation set. VGG16 was originally trained on 224 \u00d7 224 images, so make sure to address that when defining the ImageDataGenerator instances.\n4. Create a sequential model using Keras. Add VGG16 model to it and dense layer.\n5. Compile the mode using the adam optimizer and the categorical_crossentropy loss function.\n6. Fit the model on the augmented data using the ImageDataGenerators."
        },
        {
            "cell_type": "markdown",
            "metadata": {},
            "source": "Use the following cells to create your classifier."
        },
        {
            "cell_type": "code",
            "execution_count": 3,
            "metadata": {},
            "outputs": [
                {
                    "name": "stderr",
                    "output_type": "stream",
                    "text": "Using TensorFlow backend.\n"
                }
            ],
            "source": "import keras\nimport tensorflow as tf\nfrom keras.models import Sequential\nfrom keras.models import load_model\nfrom keras.layers import Dense\nfrom keras.applications import ResNet50\nfrom keras.applications import VGG16\nfrom keras.applications.vgg16 import preprocess_input\nfrom keras.preprocessing.image import ImageDataGenerator"
        },
        {
            "cell_type": "code",
            "execution_count": 4,
            "metadata": {},
            "outputs": [],
            "source": "num_classes = 2\nbatch_size = 100\nimage_size = (224, 224)"
        },
        {
            "cell_type": "code",
            "execution_count": 5,
            "metadata": {
                "scrolled": true
            },
            "outputs": [
                {
                    "name": "stdout",
                    "output_type": "stream",
                    "text": "Found 30001 images belonging to 2 classes.\nFound 9501 images belonging to 2 classes.\n"
                }
            ],
            "source": "generator = ImageDataGenerator(preprocessing_function=preprocess_input)\n\ntraining_generator = generator.flow_from_directory(\n    \"concrete_data_week4/train\",\n    target_size=image_size,\n    batch_size=batch_size,\n    class_mode=\"categorical\")\n\nvalidation_generator = generator.flow_from_directory(\n    \"concrete_data_week4/valid\",\n    target_size=image_size,\n    batch_size=batch_size,\n    class_mode=\"categorical\")"
        },
        {
            "cell_type": "code",
            "execution_count": 6,
            "metadata": {},
            "outputs": [
                {
                    "name": "stdout",
                    "output_type": "stream",
                    "text": "WARNING:tensorflow:From /opt/conda/envs/Python36/lib/python3.6/site-packages/tensorflow/python/framework/op_def_library.py:263: colocate_with (from tensorflow.python.framework.ops) is deprecated and will be removed in a future version.\nInstructions for updating:\nColocations handled automatically by placer.\n_________________________________________________________________\nLayer (type)                 Output Shape              Param #   \n=================================================================\nvgg16 (Model)                (None, 512)               14714688  \n_________________________________________________________________\ndense_1 (Dense)              (None, 2)                 1026      \n=================================================================\nTotal params: 14,715,714\nTrainable params: 1,026\nNon-trainable params: 14,714,688\n_________________________________________________________________\n"
                }
            ],
            "source": "model_vgg16 = Sequential()\n\nmodel_vgg16.add(VGG16(include_top=False, pooling=\"avg\", weights=\"imagenet\",))\nmodel_vgg16.add(Dense(num_classes, activation=\"softmax\"))\n\nmodel_vgg16.layers[0].trainable = False\n\nmodel_vgg16.summary()"
        },
        {
            "cell_type": "code",
            "execution_count": 7,
            "metadata": {},
            "outputs": [],
            "source": "model_vgg16.compile(\n    optimizer=\"adam\",\n    loss=\"categorical_crossentropy\",\n    metrics=[\"accuracy\"])"
        },
        {
            "cell_type": "code",
            "execution_count": 8,
            "metadata": {
                "scrolled": false
            },
            "outputs": [
                {
                    "name": "stdout",
                    "output_type": "stream",
                    "text": "WARNING:tensorflow:From /opt/conda/envs/Python36/lib/python3.6/site-packages/tensorflow/python/ops/math_ops.py:3066: to_int32 (from tensorflow.python.ops.math_ops) is deprecated and will be removed in a future version.\nInstructions for updating:\nUse tf.cast instead.\nEpoch 1/2\n301/301 [==============================] - 4889s 16s/step - loss: 0.1453 - acc: 0.9447 - val_loss: 0.0319 - val_acc: 0.9927\nEpoch 2/2\n301/301 [==============================] - 4881s 16s/step - loss: 0.0245 - acc: 0.9945 - val_loss: 0.0184 - val_acc: 0.9955\n"
                }
            ],
            "source": "num_epochs = 2\nsteps_per_epoch_training = len(training_generator)\nsteps_per_epoch_validation = len(validation_generator)\n\nhistory_vgg16 = model_vgg16.fit_generator(\n    training_generator,\n    steps_per_epoch=steps_per_epoch_training,\n    epochs=num_epochs,\n    validation_data=validation_generator,\n    validation_steps=steps_per_epoch_validation,\n    verbose=1)"
        },
        {
            "cell_type": "code",
            "execution_count": 18,
            "metadata": {},
            "outputs": [],
            "source": "model_vgg16.save(\"classifier_vgg16_model.h5\")"
        },
        {
            "cell_type": "markdown",
            "metadata": {},
            "source": "## Part 2"
        },
        {
            "cell_type": "markdown",
            "metadata": {},
            "source": "In this part, you will evaluate your deep learning models on a test data. For this part, you will need to do the following:\n\n1. Load your saved model that was built using the ResNet50 model. \n2. Construct an ImageDataGenerator for the test set. For this ImageDataGenerator instance, you only need to pass the directory of the test images, target size, and the **shuffle** parameter and set it to False.\n3. Use the **evaluate_generator** method to evaluate your models on the test data, by passing the above ImageDataGenerator as an argument. You can learn more about **evaluate_generator** [here](https://keras.io/models/sequential/).\n4. Print the performance of the classifier using the VGG16 pre-trained model.\n5. Print the performance of the classifier using the ResNet pre-trained model.\n"
        },
        {
            "cell_type": "markdown",
            "metadata": {},
            "source": "Use the following cells to evaluate your models."
        },
        {
            "cell_type": "code",
            "execution_count": 22,
            "metadata": {},
            "outputs": [],
            "source": "# model_resnet50 = load_model(\"classifier_resnet_model.h5\")\nmodel_resnet50 = model_vgg16"
        },
        {
            "cell_type": "code",
            "execution_count": 12,
            "metadata": {},
            "outputs": [
                {
                    "name": "stdout",
                    "output_type": "stream",
                    "text": "Found 500 images belonging to 2 classes.\n"
                }
            ],
            "source": "testing_generator = generator.flow_from_directory(\n    \"concrete_data_week4/test\", target_size=image_size, shuffle=False,)"
        },
        {
            "cell_type": "code",
            "execution_count": 15,
            "metadata": {},
            "outputs": [
                {
                    "name": "stdout",
                    "output_type": "stream",
                    "text": "Performance of the VGG16-trained model\nLoss: 0.00379\nAccuracy: 1.0\n"
                }
            ],
            "source": "performance_vgg16 = model_vgg16.evaluate_generator(testing_generator, steps=1)\nprint(\"Performance of the VGG16-trained model\")\nprint(\"Loss: {}\".format(round(performance_vgg16[0], 5)))\nprint(\"Accuracy: {}\".format(round(performance_vgg16[1], 5)))"
        },
        {
            "cell_type": "code",
            "execution_count": 23,
            "metadata": {},
            "outputs": [
                {
                    "name": "stdout",
                    "output_type": "stream",
                    "text": "Performance of the ResNet50-trained model\nLoss: 0.00866\nAccuracy: 1.0\n"
                }
            ],
            "source": "performance_resnet50 = model_resnet50.evaluate_generator(testing_generator, steps=1)\nprint(\"Performance of the ResNet50-trained model\")\nprint(\"Loss: {}\".format(round(performance_resnet50[0], 5)))\nprint(\"Accuracy: {}\".format(round(performance_resnet50[1], 5)))"
        },
        {
            "cell_type": "markdown",
            "metadata": {},
            "source": "## Part 3"
        },
        {
            "cell_type": "markdown",
            "metadata": {},
            "source": "In this model, you will predict whether the images in the test data are images of cracked concrete or not. You will do the following:\n\n1. Use the **predict_generator** method to predict the class of the images in the test data, by passing the test data ImageDataGenerator instance defined in the previous part as an argument. You can learn more about the **predict_generator** method [here](https://keras.io/models/sequential/).\n2. Report the class predictions of the first five images in the test set. You should print something list this:\n\n<center>\n    <ul style=\"list-style-type:none\">\n        <li>Positive</li>  \n        <li>Negative</li> \n        <li>Positive</li>\n        <li>Positive</li>\n        <li>Negative</li>\n    </ul>\n</center>"
        },
        {
            "cell_type": "markdown",
            "metadata": {},
            "source": "Use the following cells to make your predictions."
        },
        {
            "cell_type": "code",
            "execution_count": 24,
            "metadata": {},
            "outputs": [
                {
                    "name": "stdout",
                    "output_type": "stream",
                    "text": "First five predictions for the VGG16-trained model:\nNegative (99.9% certainty)\nNegative (98.6% certainty)\nNegative (99.9% certainty)\nNegative (99.5% certainty)\nNegative (99.3% certainty)\n"
                }
            ],
            "source": "predictions_vgg16 = model_vgg16.predict_generator(testing_generator, steps=1)\n\ndef print_prediction(prediction):\n    if prediction[0] > prediction[1]:\n        print(\"Negative ({}% certainty)\".format(round(prediction[0] * 100, 1)))\n    elif prediction[1] > prediction[0]:\n        print(\"Positive ({}% certainty)\".format(round(prediction[1] * 100, 1)))\n    else:\n        print(\"Unsure (prediction split 50\u201350)\")\n\n\nprint(\"First five predictions for the VGG16-trained model:\")\nfor i in range(5):\n    print_prediction(predictions_vgg16[i])"
        },
        {
            "cell_type": "code",
            "execution_count": 25,
            "metadata": {},
            "outputs": [
                {
                    "name": "stdout",
                    "output_type": "stream",
                    "text": "First five predictions for the ResNet50-trained model:\nPositive (99.9% certainty)\nPositive (100.0% certainty)\nPositive (100.0% certainty)\nPositive (99.0% certainty)\nPositive (100.0% certainty)\n"
                }
            ],
            "source": "predictions_resnet50 = model_resnet50.predict_generator(testing_generator, steps=1)\nprint(\"First five predictions for the ResNet50-trained model:\")\nfor i in range(5):\n    print_prediction(predictions_resnet50[i])"
        },
        {
            "cell_type": "markdown",
            "metadata": {},
            "source": "  "
        }
    ],
    "metadata": {
        "kernelspec": {
            "display_name": "Python 3.6",
            "language": "python",
            "name": "python3"
        },
        "language_info": {
            "codemirror_mode": {
                "name": "ipython",
                "version": 3
            },
            "file_extension": ".py",
            "mimetype": "text/x-python",
            "name": "python",
            "nbconvert_exporter": "python",
            "pygments_lexer": "ipython3",
            "version": "3.6.9"
        }
    },
    "nbformat": 4,
    "nbformat_minor": 4
}