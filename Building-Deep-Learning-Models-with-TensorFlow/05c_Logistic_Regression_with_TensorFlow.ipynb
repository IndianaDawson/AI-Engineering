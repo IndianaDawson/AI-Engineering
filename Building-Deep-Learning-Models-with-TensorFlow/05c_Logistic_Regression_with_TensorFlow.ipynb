{
    "cells": [
        {
            "cell_type": "markdown",
            "metadata": {},
            "source": "# LOGISTIC REGRESSION WITH TENSORFLOW"
        },
        {
            "cell_type": "markdown",
            "metadata": {},
            "source": "<a id=\"ref1\"></a>\n<h2>What is different between Linear and Logistic Regression?</h2>\n\nWhile Linear Regression is suited for estimating continuous values (e.g. estimating house price), it is n0t the best tool for predicting the class in which an observed data point belongs. In order to provide estimate for classification, we need some sort of guidance on what would be the <b>most probable class</b> for that data point. For this, we use <b>Logistic Regression</b>.\n\n<div class=\"alert alert-success alertsuccess\" style=\"margin-top: 20px\">\n<font size=\"3\"><strong>Recall linear regression:</strong></font>\n<br>\n<br>\nLinear regression finds a function that relates a continuous dependent variable, <i>y</i>, to some predictors (independent variables <i>x1</i>, <i>x2</i>, etc.). Simple linear regression assumes a function of the form:\n<br><br>\n$$\ny = w0 + w1 \\times x1 + w2 \\times x2 + \\cdots\n$$\n<br>\nand finds the values of <i>w0</i>, <i>w1</i>, <i>w2</i>, etc. The term <i>w0</i> is the \"intercept\" or \"constant term\" (it's shown as <i>b</i> in the formula below):\n<br><br>\n$$\nY = W X + b\n$$\n<p></p>\n\n</div>\n\nLogistic Regression is a variation of Linear Regression, useful when the observed dependent variable, <i>y</i>, is categorical. It produces a formula that predicts the probability of the class label as a function of the independent variables.\n\nDespite the name logistic <i>regression</i>, it is actually a <b>probabilistic classification</b> model. Logistic regression fits a special s-shaped curve by taking the linear regression and transforming the numeric estimate into a probability with the following function:\n\n$$\nProbabilityOfaClass = \\theta(y) = \\frac{e^y}{1 + e^y} = exp(y) / (1 + exp(y)) = p \n$$\n\nwhich produces p-values between 0 (as y approaches minus infinity $-\\infty$) and 1 (as y approaches plus infinity $+\\infty$). This now becomes a special kind of non-linear regression.\n\nIn this equation, <i>y</i> is the regression result (the sum of the variables weighted by the coefficients), <code>exp</code> is the exponential function and $\\theta(y)$ is the <a href=\"http://en.wikipedia.org/wiki/Logistic_function\">logistic function</a>, also called logistic curve. It is a common \"S\" shape (sigmoid curve), and was first developed for modeling population growth.\n\nYou might also have seen this function before, in another configuration:\n\n$$\nProbabilityOfaClass = \\theta(y) = \\frac{1}{1+e^{-y}}\n$$\n\nSo, briefly, Logistic Regression passes the input through the logistic/sigmoid function but then treats the result as a probability:\n\n<img src=\"https://ibm.box.com/shared/static/kgv9alcghmjcv97op4d6onkyxevk23b1.png\" width=\"400\" align=\"center\">\n"
        },
        {
            "cell_type": "markdown",
            "metadata": {},
            "source": "-------------------------------"
        },
        {
            "cell_type": "markdown",
            "metadata": {},
            "source": "<a id=\"ref2\"></a>\n<h2>Utilizing Logistic Regression in TensorFlow</h2>\n\nFor us to utilize Logistic Regression in TensorFlow, we first need to import the required libraries. To do so, you can run the code cell below."
        },
        {
            "cell_type": "code",
            "execution_count": 1,
            "metadata": {},
            "outputs": [
                {
                    "name": "stderr",
                    "output_type": "stream",
                    "text": "/home/jupyterlab/conda/envs/python/lib/python3.6/site-packages/tensorflow/python/framework/dtypes.py:519: FutureWarning: Passing (type, 1) or '1type' as a synonym of type is deprecated; in a future version of numpy, it will be understood as (type, (1,)) / '(1,)type'.\n  _np_qint8 = np.dtype([(\"qint8\", np.int8, 1)])\n/home/jupyterlab/conda/envs/python/lib/python3.6/site-packages/tensorflow/python/framework/dtypes.py:520: FutureWarning: Passing (type, 1) or '1type' as a synonym of type is deprecated; in a future version of numpy, it will be understood as (type, (1,)) / '(1,)type'.\n  _np_quint8 = np.dtype([(\"quint8\", np.uint8, 1)])\n/home/jupyterlab/conda/envs/python/lib/python3.6/site-packages/tensorflow/python/framework/dtypes.py:521: FutureWarning: Passing (type, 1) or '1type' as a synonym of type is deprecated; in a future version of numpy, it will be understood as (type, (1,)) / '(1,)type'.\n  _np_qint16 = np.dtype([(\"qint16\", np.int16, 1)])\n/home/jupyterlab/conda/envs/python/lib/python3.6/site-packages/tensorflow/python/framework/dtypes.py:522: FutureWarning: Passing (type, 1) or '1type' as a synonym of type is deprecated; in a future version of numpy, it will be understood as (type, (1,)) / '(1,)type'.\n  _np_quint16 = np.dtype([(\"quint16\", np.uint16, 1)])\n/home/jupyterlab/conda/envs/python/lib/python3.6/site-packages/tensorflow/python/framework/dtypes.py:523: FutureWarning: Passing (type, 1) or '1type' as a synonym of type is deprecated; in a future version of numpy, it will be understood as (type, (1,)) / '(1,)type'.\n  _np_qint32 = np.dtype([(\"qint32\", np.int32, 1)])\n/home/jupyterlab/conda/envs/python/lib/python3.6/site-packages/tensorflow/python/framework/dtypes.py:528: FutureWarning: Passing (type, 1) or '1type' as a synonym of type is deprecated; in a future version of numpy, it will be understood as (type, (1,)) / '(1,)type'.\n  np_resource = np.dtype([(\"resource\", np.ubyte, 1)])\n"
                }
            ],
            "source": "import tensorflow as tf\nimport pandas as pd\nimport numpy as np\nimport time\nfrom sklearn.datasets import load_iris\nfrom sklearn.model_selection import train_test_split\nimport matplotlib.pyplot as plt"
        },
        {
            "cell_type": "markdown",
            "metadata": {},
            "source": "Next, we will load the dataset we are going to use. In this case, we are utilizing the <code>iris</code> dataset, which is inbuilt -- so there's no need to do any preprocessing and we can jump right into manipulating it. We separate the dataset into <i>xs</i> and <i>ys</i>, and then into training <i>xs</i> and <i>ys</i> and testing <i>xs</i> and <i>ys</i>, (pseudo)randomly."
        },
        {
            "cell_type": "markdown",
            "metadata": {},
            "source": "<h3>Understanding the Data</h3>\n\n<h4><code>Iris Dataset</code>:</h4>\nThis dataset was introduced by British Statistician and Biologist Ronald Fisher, it consists of 50 samples from each of three species of Iris (Iris setosa, Iris virginica and Iris versicolor). In total it has 150 records under five attributes - petal length, petal width, sepal length, sepal width and species. <a href=\"https://archive.ics.uci.edu/ml/datasets/iris\">Dataset source</a>\n\nAttributes\nIndependent Variable\n<ul>\n    <li>petal length</li>\n    <li>petal width</li>\n    <li>sepal length</li>\n    <li>sepal width</li>\n</ul>\nDependent Variable\n<ul>    \n    <li>Species\n        <ul>\n            <li>Iris setosa</li>\n            <li>Iris virginica</li>\n            <li>Iris versicolor</li>\n        </ul>\n    </li>\n</ul>\n<br>"
        },
        {
            "cell_type": "code",
            "execution_count": 2,
            "metadata": {},
            "outputs": [],
            "source": "iris = load_iris()\niris_X, iris_y = iris.data[:-1,:], iris.target[:-1]\niris_y= pd.get_dummies(iris_y).values\ntrainX, testX, trainY, testY = train_test_split(iris_X, iris_y, test_size=0.33, random_state=42)"
        },
        {
            "cell_type": "markdown",
            "metadata": {},
            "source": "Now we define x and y. These placeholders will hold our iris data (both the features and label matrices), and help pass them along to different parts of the algorithm. You can consider placeholders as empty shells into which we insert our data. We also need to give them shapes which correspond to the shape of our data. Later, we will insert data into these placeholders by \u201cfeeding\u201d the placeholders the data via a \u201cfeed_dict\u201d (Feed Dictionary).\n\n<h3>Why use Placeholders?</h3>\n\n<ol>\n    <li>This feature of TensorFlow allows us to create an algorithm which accepts data and knows something about the shape of the data without knowing the amount of data going in.</li>\n    <li>When we insert \u201cbatches\u201d of data in training, we can easily adjust how many examples we train on in a single step without changing the entire algorithm.</li>\n</ol>"
        },
        {
            "cell_type": "code",
            "execution_count": 3,
            "metadata": {},
            "outputs": [],
            "source": "# numFeatures is the number of features in our input data.\n# In the iris dataset, this number is '4'.\nnumFeatures = trainX.shape[1]\n\n# numLabels is the number of classes our data points can be in.\n# In the iris dataset, this number is '3'.\nnumLabels = trainY.shape[1]\n\n\n# Placeholders\n# 'None' means TensorFlow shouldn't expect a fixed number in that dimension\nX = tf.placeholder(tf.float32, [None, numFeatures]) # Iris has 4 features, so X is a tensor to hold our data.\nyGold = tf.placeholder(tf.float32, [None, numLabels]) # This will be our correct answers matrix for 3 classes."
        },
        {
            "cell_type": "markdown",
            "metadata": {},
            "source": "<h3>Set model weights and bias</h3>\n\nMuch like Linear Regression, we need a shared variable weight matrix for Logistic Regression. We initialize both <code>W</code> and <code>b</code> as tensors full of zeros. Since we are going to learn <code>W</code> and <code>b</code>, their initial value does not matter too much. These variables are the objects which define the structure of our regression model, and we can save them after they have been trained so we can reuse them later.\n\nWe define two TensorFlow variables as our parameters. These variables will hold the weights and biases of our logistic regression and they will be continually updated during training. \n\nNotice that <code>W</code> has a shape of [4, 3] because we want to multiply the 4-dimensional input vectors by it to produce 3-dimensional vectors of evidence for the difference classes. <code>b</code> has a shape of [3] so we can add it to the output. Moreover, unlike our placeholders above which are essentially empty shells waiting to be fed data, TensorFlow variables need to be initialized with values, e.g. with zeros."
        },
        {
            "cell_type": "code",
            "execution_count": 4,
            "metadata": {},
            "outputs": [],
            "source": "W = tf.Variable(tf.zeros([4, 3]))  # 4-dimensional input and  3 classes\nb = tf.Variable(tf.zeros([3])) # 3-dimensional output [0,0,1],[0,1,0],[1,0,0]"
        },
        {
            "cell_type": "code",
            "execution_count": 5,
            "metadata": {},
            "outputs": [],
            "source": "#Randomly sample from a normal distribution with standard deviation .01\n\nweights = tf.Variable(tf.random_normal([numFeatures,numLabels],\n                                       mean=0,\n                                       stddev=0.01,\n                                       name=\"weights\"))\n\nbias = tf.Variable(tf.random_normal([1,numLabels],\n                                    mean=0,\n                                    stddev=0.01,\n                                    name=\"bias\"))"
        },
        {
            "cell_type": "markdown",
            "metadata": {},
            "source": "<h3>Logistic Regression model</h3>\n\nWe now define our operations in order to properly run the Logistic Regression. Logistic regression is typically thought of as a single equation:\n\n$$\ny\u0302 =sigmoid(WX+b)\n$$\n\nHowever, for the sake of clarity, we can have it broken into its three main components: \n- a weight times features matrix multiplication operation, \n- a summation of the weighted features and a bias term, \n- and finally the application of a sigmoid function. \n\nAs such, you will find these components defined as three separate operations below.\n"
        },
        {
            "cell_type": "code",
            "execution_count": 6,
            "metadata": {},
            "outputs": [],
            "source": "# Three-component breakdown of the Logistic Regression equation.\n# Note that these feed into each other.\napply_weights_OP = tf.matmul(X, weights, name=\"apply_weights\")\nadd_bias_OP = tf.add(apply_weights_OP, bias, name=\"add_bias\") \nactivation_OP = tf.nn.sigmoid(add_bias_OP, name=\"activation\")"
        },
        {
            "cell_type": "markdown",
            "metadata": {},
            "source": "As we have seen before, the function we are going to use is the <i>logistic function</i> $(\\frac{1}{1+e^{-Wx}})$, which is fed the input data after applying weights and bias. In TensorFlow, this function is implemented as the <code>nn.sigmoid</code> function. Effectively, this fits the weighted input with bias into a 0-100 percent curve, which is the probability function we want."
        },
        {
            "cell_type": "markdown",
            "metadata": {},
            "source": "<a id=\"ref3\"></a>\n<h2>Training</h2>\n\nThe learning algorithm is how we search for the best weight vector (${\\bf w}$). This search is an optimization problem looking for the hypothesis that optimizes an error/cost measure.\n\n<b>What tell us our model is bad?</b>  \nThe Cost or Loss of the model, so what we want is to minimize that. \n\n<b>What is the cost function in our model?</b>  \nThe cost function we are going to utilize is the Squared Mean Error loss function.\n\n<b>How to minimize the cost function?</b>   \nWe can't use <b>least-squares linear regression</b> here, so we will use <a href=\"http://en.wikipedia.org/wiki/Gradient_descent\">gradient descent</a> instead. Specifically, we will use batch gradient descent which calculates the gradient from all data points in the data set.\n\n<h3>Cost function</h3>\nBefore defining our cost function, we need to define how long we are going to train and how should we define the learning rate."
        },
        {
            "cell_type": "code",
            "execution_count": 7,
            "metadata": {},
            "outputs": [],
            "source": "# Number of Epochs in our training\nnumEpochs = 700\n\n# Defining our learning rate iterations (decay)\nlearningRate = tf.train.exponential_decay(learning_rate=0.0008,\n                                          global_step= 1,\n                                          decay_steps=trainX.shape[0],\n                                          decay_rate= 0.95,\n                                          staircase=True)"
        },
        {
            "cell_type": "code",
            "execution_count": 8,
            "metadata": {},
            "outputs": [],
            "source": "#Defining our cost function - Squared Mean Error\ncost_OP = tf.nn.l2_loss(activation_OP-yGold, name=\"squared_error_cost\")\n\n#Defining our Gradient Descent\ntraining_OP = tf.train.GradientDescentOptimizer(learningRate).minimize(cost_OP)"
        },
        {
            "cell_type": "markdown",
            "metadata": {},
            "source": "Now we move on to actually running our operations. We will start with the operations involved in the prediction phase (i.e. the logistic regression itself).\n\nFirst, we need to initialize our weights and biases with zeros or random values via the inbuilt Initialization Op, <b>tf.initialize_all_variables()</b>. This Initialization Op will become a node in our computational graph, and when we put the graph into a session, then the Op will run and create the variables."
        },
        {
            "cell_type": "code",
            "execution_count": 9,
            "metadata": {},
            "outputs": [],
            "source": "# Create a tensorflow session\nsess = tf.Session()\n\n# Initialize our weights and biases variables.\ninit_OP = tf.global_variables_initializer()\n\n# Initialize all tensorflow variables\nsess.run(init_OP)"
        },
        {
            "cell_type": "markdown",
            "metadata": {},
            "source": "We also want some additional operations to keep track of our model's efficiency over time. We can do this like so:"
        },
        {
            "cell_type": "code",
            "execution_count": 10,
            "metadata": {},
            "outputs": [],
            "source": "# argmax(activation_OP, 1) returns the label with the most probability\n# argmax(yGold, 1) is the correct label\ncorrect_predictions_OP = tf.equal(tf.argmax(activation_OP,1),tf.argmax(yGold,1))\n\n# If every false prediction is 0 and every true prediction is 1, the average returns us the accuracy\naccuracy_OP = tf.reduce_mean(tf.cast(correct_predictions_OP, \"float\"))\n\n# Summary op for regression output\nactivation_summary_OP = tf.summary.histogram(\"output\", activation_OP)\n\n# Summary op for accuracy\naccuracy_summary_OP = tf.summary.scalar(\"accuracy\", accuracy_OP)\n\n# Summary op for cost\ncost_summary_OP = tf.summary.scalar(\"cost\", cost_OP)\n\n# Summary ops to check how variables (W, b) are updating after each iteration\nweightSummary = tf.summary.histogram(\"weights\", weights.eval(session=sess))\nbiasSummary = tf.summary.histogram(\"biases\", bias.eval(session=sess))\n\n# Merge all summaries\nmerged = tf.summary.merge([activation_summary_OP, accuracy_summary_OP, cost_summary_OP, weightSummary, biasSummary])\n\n# Summary writer\nwriter = tf.summary.FileWriter(\"summary_logs\", sess.graph)"
        },
        {
            "cell_type": "markdown",
            "metadata": {},
            "source": "Now we can define and run the actual training loop, like this:"
        },
        {
            "cell_type": "code",
            "execution_count": 11,
            "metadata": {},
            "outputs": [
                {
                    "name": "stdout",
                    "output_type": "stream",
                    "text": "step 0, training accuracy 0.606061, cost 34.7177, change in cost 34.7177\nstep 10, training accuracy 0.606061, cost 30.0857, change in cost 4.63201\nstep 20, training accuracy 0.646465, cost 28.1325, change in cost 1.95319\nstep 30, training accuracy 0.646465, cost 26.49, change in cost 1.6425\nstep 40, training accuracy 0.646465, cost 25.1282, change in cost 1.36178\nstep 50, training accuracy 0.646465, cost 24.0045, change in cost 1.12372\nstep 60, training accuracy 0.646465, cost 23.0748, change in cost 0.929659\nstep 70, training accuracy 0.646465, cost 22.3004, change in cost 0.774385\nstep 80, training accuracy 0.646465, cost 21.6495, change in cost 0.650904\nstep 90, training accuracy 0.646465, cost 21.0969, change in cost 0.552603\nstep 100, training accuracy 0.656566, cost 20.623, change in cost 0.473942\nstep 110, training accuracy 0.666667, cost 20.2125, change in cost 0.410528\nstep 120, training accuracy 0.666667, cost 19.8535, change in cost 0.358984\nstep 130, training accuracy 0.666667, cost 19.5368, change in cost 0.316704\nstep 140, training accuracy 0.666667, cost 19.255, change in cost 0.281734\nstep 150, training accuracy 0.666667, cost 19.0025, change in cost 0.252552\nstep 160, training accuracy 0.676768, cost 18.7745, change in cost 0.227997\nstep 170, training accuracy 0.686869, cost 18.5673, change in cost 0.20718\nstep 180, training accuracy 0.686869, cost 18.3779, change in cost 0.189394\nstep 190, training accuracy 0.707071, cost 18.2038, change in cost 0.174093\nstep 200, training accuracy 0.717172, cost 18.043, change in cost 0.160845\nstep 210, training accuracy 0.737374, cost 17.8937, change in cost 0.149298\nstep 220, training accuracy 0.737374, cost 17.7545, change in cost 0.139177\nstep 230, training accuracy 0.747475, cost 17.6242, change in cost 0.13026\nstep 240, training accuracy 0.757576, cost 17.5019, change in cost 0.122353\nstep 250, training accuracy 0.767677, cost 17.3866, change in cost 0.115311\nstep 260, training accuracy 0.787879, cost 17.2776, change in cost 0.10902\nstep 270, training accuracy 0.787879, cost 17.1742, change in cost 0.103361\nstep 280, training accuracy 0.787879, cost 17.076, change in cost 0.0982513\nstep 290, training accuracy 0.787879, cost 16.9823, change in cost 0.0936279\nstep 300, training accuracy 0.79798, cost 16.8929, change in cost 0.0894184\nstep 310, training accuracy 0.79798, cost 16.8073, change in cost 0.085577\nstep 320, training accuracy 0.79798, cost 16.7253, change in cost 0.0820637\nstep 330, training accuracy 0.79798, cost 16.6464, change in cost 0.0788307\nstep 340, training accuracy 0.808081, cost 16.5706, change in cost 0.0758514\nstep 350, training accuracy 0.818182, cost 16.4975, change in cost 0.073103\nstep 360, training accuracy 0.828283, cost 16.4269, change in cost 0.070549\nstep 370, training accuracy 0.838384, cost 16.3588, change in cost 0.0681782\nstep 380, training accuracy 0.838384, cost 16.2928, change in cost 0.0659695\nstep 390, training accuracy 0.838384, cost 16.2289, change in cost 0.0639057\nstep 400, training accuracy 0.848485, cost 16.1669, change in cost 0.0619755\nstep 410, training accuracy 0.848485, cost 16.1067, change in cost 0.0601654\nstep 420, training accuracy 0.848485, cost 16.0483, change in cost 0.0584564\nstep 430, training accuracy 0.858586, cost 15.9914, change in cost 0.0568571\nstep 440, training accuracy 0.868687, cost 15.9361, change in cost 0.0553408\nstep 450, training accuracy 0.868687, cost 15.8822, change in cost 0.0539122\nstep 460, training accuracy 0.878788, cost 15.8296, change in cost 0.0525541\nstep 470, training accuracy 0.878788, cost 15.7783, change in cost 0.0512705\nstep 480, training accuracy 0.878788, cost 15.7283, change in cost 0.0500469\nstep 490, training accuracy 0.878788, cost 15.6794, change in cost 0.0488834\nstep 500, training accuracy 0.878788, cost 15.6316, change in cost 0.0477781\nstep 510, training accuracy 0.878788, cost 15.5849, change in cost 0.0467196\nstep 520, training accuracy 0.878788, cost 15.5392, change in cost 0.0457115\nstep 530, training accuracy 0.888889, cost 15.4945, change in cost 0.0447454\nstep 540, training accuracy 0.89899, cost 15.4506, change in cost 0.0438194\nstep 550, training accuracy 0.89899, cost 15.4077, change in cost 0.0429306\nstep 560, training accuracy 0.89899, cost 15.3656, change in cost 0.0420809\nstep 570, training accuracy 0.89899, cost 15.3244, change in cost 0.0412636\nstep 580, training accuracy 0.89899, cost 15.2839, change in cost 0.0404749\nstep 590, training accuracy 0.909091, cost 15.2442, change in cost 0.0397186\nstep 600, training accuracy 0.909091, cost 15.2052, change in cost 0.03899\nstep 610, training accuracy 0.909091, cost 15.1669, change in cost 0.0382833\nstep 620, training accuracy 0.909091, cost 15.1293, change in cost 0.0376062\nstep 630, training accuracy 0.909091, cost 15.0923, change in cost 0.0369501\nstep 640, training accuracy 0.909091, cost 15.056, change in cost 0.036314\nstep 650, training accuracy 0.909091, cost 15.0203, change in cost 0.0357027\nstep 660, training accuracy 0.909091, cost 14.9852, change in cost 0.0351057\nstep 670, training accuracy 0.909091, cost 14.9507, change in cost 0.0345325\nstep 680, training accuracy 0.909091, cost 14.9167, change in cost 0.0339727\nstep 690, training accuracy 0.909091, cost 14.8833, change in cost 0.0334339\nfinal accuracy on test set: 0.9\n"
                }
            ],
            "source": "# Initialize reporting variables\ncost = 0\ndiff = 1\nepoch_values = []\naccuracy_values = []\ncost_values = []\n\n# Training epochs\nfor i in range(numEpochs):\n    if i > 1 and diff < .0001:\n        print(\"change in cost %g; convergence.\"%diff)\n        break\n    else:\n        # Run training step\n        step = sess.run(training_OP, feed_dict={X: trainX, yGold: trainY})\n        # Report occasional stats\n        if i % 10 == 0:\n            # Add epoch to epoch_values\n            epoch_values.append(i)\n            # Generate accuracy stats on test data\n            train_accuracy, newCost = sess.run([accuracy_OP, cost_OP], feed_dict={X: trainX, yGold: trainY})\n            # Add accuracy to live graphing variable\n            accuracy_values.append(train_accuracy)\n            # Add cost to live graphing variable\n            cost_values.append(newCost)\n            # Re-assign values for variables\n            diff = abs(newCost - cost)\n            cost = newCost\n\n            #generate print statements\n            print(\"step %d, training accuracy %g, cost %g, change in cost %g\"%(i, train_accuracy, newCost, diff))\n\n\n# How well do we perform on held-out test data?\nprint(\"final accuracy on test set: %s\" %str(sess.run(accuracy_OP, \n                                                     feed_dict={X: testX, \n                                                                yGold: testY})))"
        },
        {
            "cell_type": "markdown",
            "metadata": {},
            "source": "<b>Why don't we plot the cost to see how it behaves?</b>"
        },
        {
            "cell_type": "code",
            "execution_count": 12,
            "metadata": {},
            "outputs": [
                {
                    "name": "stderr",
                    "output_type": "stream",
                    "text": "/home/jupyterlab/conda/envs/python/lib/python3.6/site-packages/numpy/core/fromnumeric.py:3373: RuntimeWarning: Mean of empty slice.\n  out=out, **kwargs)\n/home/jupyterlab/conda/envs/python/lib/python3.6/site-packages/numpy/core/_methods.py:170: RuntimeWarning: invalid value encountered in double_scalars\n  ret = ret.dtype.type(ret / rcount)\n"
                },
                {
                    "data": {
                        "image/png": "[encoded data removed]",
                        "text/plain": "<Figure size 432x288 with 1 Axes>"
                    },
                    "metadata": {
                        "needs_background": "light"
                    },
                    "output_type": "display_data"
                }
            ],
            "source": "%matplotlib inline\nimport numpy as np\nimport matplotlib.pyplot as plt\nplt.plot([np.mean(cost_values[i-50:i]) for i in range(len(cost_values))])\nplt.show()"
        },
        {
            "cell_type": "markdown",
            "metadata": {},
            "source": "Assuming no parameters were changed, you should reach a peak accuracy of 90% at the end of training, which is commendable. Try changing the parameters such as the length of training, and maybe some operations to see how the model behaves. Does it take much longer? How is the performance?"
        },
        {
            "cell_type": "markdown",
            "metadata": {},
            "source": "<hr>"
        }
    ],
    "metadata": {
        "kernelspec": {
            "display_name": "Python 3.6",
            "language": "python",
            "name": "python3"
        },
        "language_info": {
            "codemirror_mode": {
                "name": "ipython",
                "version": 3
            },
            "file_extension": ".py",
            "mimetype": "text/x-python",
            "name": "python",
            "nbconvert_exporter": "python",
            "pygments_lexer": "ipython3",
            "version": "3.6.9"
        }
    },
    "nbformat": 4,
    "nbformat_minor": 4
}