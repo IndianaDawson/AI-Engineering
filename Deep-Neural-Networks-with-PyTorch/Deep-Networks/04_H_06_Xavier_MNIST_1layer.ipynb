{
    "cells": [
        {
            "cell_type": "markdown",
            "metadata": {},
            "source": "<h1>Test Uniform, Default and Xavier Uniform Initialization on MNIST dataset with tanh activation</h1>"
        },
        {
            "cell_type": "markdown",
            "metadata": {},
            "source": "<h2>Table of Contents</h2>\nIn this lab, you will test PyTroch Default Initialization, Xavier Initialization and Uniform Initialization on the MNIST dataset. \n\n<ul>\n    <li><a href=\"#Model\">Neural Network Module and Training Function</a></li>\n    <li><a href=\"#Make\">Make Some Data</a></li>\n    <li><a href=\"#Cost\">Define Several Neural Network, Criterion function, Optimizer</a></li>\n    <li><a href=\"#Train\">Test Uniform, Default and Xavier Initialization</a></li>\n    <li><a href=\"#Result\">Analyze Results</a></li>\n</ul>\n\n<p>Estimated Time Needed: <strong>25 min</strong></p>\n\n<hr>"
        },
        {
            "cell_type": "markdown",
            "metadata": {},
            "source": "<h2>Preparation</h2>"
        },
        {
            "cell_type": "markdown",
            "metadata": {},
            "source": "We'll need the following libraries:  "
        },
        {
            "cell_type": "code",
            "execution_count": 1,
            "metadata": {},
            "outputs": [
                {
                    "name": "stdout",
                    "output_type": "stream",
                    "text": "Requirement already satisfied: torch in /opt/conda/envs/Python36/lib/python3.6/site-packages (1.6.0)\nRequirement already satisfied: numpy in /opt/conda/envs/Python36/lib/python3.6/site-packages (from torch) (1.15.4)\nRequirement already satisfied: future in /opt/conda/envs/Python36/lib/python3.6/site-packages (from torch) (0.17.1)\nRequirement already satisfied: torchvision in /opt/conda/envs/Python36/lib/python3.6/site-packages (0.7.0)\nRequirement already satisfied: torch==1.6.0 in /opt/conda/envs/Python36/lib/python3.6/site-packages (from torchvision) (1.6.0)\nRequirement already satisfied: numpy in /opt/conda/envs/Python36/lib/python3.6/site-packages (from torchvision) (1.15.4)\nRequirement already satisfied: pillow>=4.1.1 in /opt/conda/envs/Python36/lib/python3.6/site-packages (from torchvision) (5.4.1)\nRequirement already satisfied: future in /opt/conda/envs/Python36/lib/python3.6/site-packages (from torch==1.6.0->torchvision) (0.17.1)\n"
                },
                {
                    "data": {
                        "text/plain": "<torch._C.Generator at 0x7f4b301dd1e0>"
                    },
                    "execution_count": 1,
                    "metadata": {},
                    "output_type": "execute_result"
                }
            ],
            "source": "# Import the libraries we need to use in this lab\n\n# Using the following line code to install the torchvision library\n!pip install torch\n!pip install torchvision\n\nimport torch \nimport torch.nn as nn\nimport torchvision.transforms as transforms\nimport torchvision.datasets as dsets\nimport matplotlib.pylab as plt\nimport numpy as np\n\ntorch.manual_seed(0)"
        },
        {
            "cell_type": "markdown",
            "metadata": {},
            "source": "<!--Empty Space for separating topics-->"
        },
        {
            "cell_type": "markdown",
            "metadata": {},
            "source": "<h2 id=\"Model\">Neural Network Module and Training Function</h2> "
        },
        {
            "cell_type": "markdown",
            "metadata": {},
            "source": "Define the neural network module or class with Xavier Initialization"
        },
        {
            "cell_type": "code",
            "execution_count": 2,
            "metadata": {},
            "outputs": [],
            "source": "# Define the neural network with Xavier initialization\n\nclass Net_Xavier(nn.Module):\n    \n    # Constructor\n    def __init__(self, Layers):\n        super(Net_Xavier, self).__init__()\n        self.hidden = nn.ModuleList()\n\n        for input_size, output_size in zip(Layers, Layers[1:]):\n            linear = nn.Linear(input_size, output_size)\n            torch.nn.init.xavier_uniform_(linear.weight)\n            self.hidden.append(linear)\n    \n    # Prediction\n    def forward(self, x):\n        L = len(self.hidden)\n        for (l, linear_transform) in zip(range(L), self.hidden):\n            if l < L - 1:\n                x = torch.tanh(linear_transform(x))\n            else:\n                x = linear_transform(x)\n        return x"
        },
        {
            "cell_type": "markdown",
            "metadata": {},
            "source": "Define the neural network module with Uniform Initialization:"
        },
        {
            "cell_type": "code",
            "execution_count": 3,
            "metadata": {},
            "outputs": [],
            "source": "# Define the neural network with Uniform initialization\n\nclass Net_Uniform(nn.Module):\n    \n    # Constructor\n    def __init__(self, Layers):\n        super(Net_Uniform, self).__init__()\n        self.hidden = nn.ModuleList()\n\n        for input_size, output_size in zip(Layers, Layers[1:]):\n            linear = nn.Linear(input_size, output_size)\n            linear.weight.data.uniform_(0, 1)\n            self.hidden.append(linear)\n    \n    # Prediction\n    def forward(self, x):\n        L = len(self.hidden)\n        for (l, linear_transform) in zip(range(L), self.hidden):\n            if l < L - 1:\n                x = torch.tanh(linear_transform(x))\n            else:\n                x = linear_transform(x)\n        return x"
        },
        {
            "cell_type": "markdown",
            "metadata": {},
            "source": "Define the neural network module with PyTroch Default Initialization"
        },
        {
            "cell_type": "code",
            "execution_count": 4,
            "metadata": {},
            "outputs": [],
            "source": "# Define the neural network with Default initialization\n\nclass Net(nn.Module):\n    \n    # Constructor\n    def __init__(self, Layers):\n        super(Net, self).__init__()\n        self.hidden = nn.ModuleList()\n\n        for input_size, output_size in zip(Layers, Layers[1:]):\n            linear = nn.Linear(input_size, output_size)\n            self.hidden.append(linear)\n    \n    # Prediction\n    def forward(self, x):\n        L = len(self.hidden)\n        for (l, linear_transform) in zip(range(L), self.hidden):\n            if l < L - 1:\n                x = torch.tanh(linear_transform(x))\n            else:\n                x = linear_transform(x)\n        return x"
        },
        {
            "cell_type": "markdown",
            "metadata": {},
            "source": "Define a function to train the model, in this case the function returns a Python dictionary to store the training loss and accuracy on the validation data "
        },
        {
            "cell_type": "code",
            "execution_count": 5,
            "metadata": {},
            "outputs": [],
            "source": "# function to Train the model\n\ndef train(model, criterion, train_loader, validation_loader, optimizer, epochs = 100):\n    i = 0\n    loss_accuracy = {'training_loss':[], 'validation_accuracy':[]}  \n    \n    for epoch in range(epochs):\n        for i,(x, y) in enumerate(train_loader):\n            optimizer.zero_grad()\n            z = model(x.view(-1, 28 * 28))\n            loss = criterion(z, y)\n            loss.backward()\n            optimizer.step()\n            loss_accuracy['training_loss'].append(loss.data.item())\n            \n        correct = 0\n        for x, y in validation_loader:\n            yhat = model(x.view(-1, 28 * 28))\n            _, label = torch.max(yhat, 1)\n            correct += (label==y).sum().item()\n        accuracy = 100 * (correct / len(validation_dataset))\n        loss_accuracy['validation_accuracy'].append(accuracy)\n        \n    return loss_accuracy"
        },
        {
            "cell_type": "markdown",
            "metadata": {},
            "source": "<!--Empty Space for separating topics-->"
        },
        {
            "cell_type": "markdown",
            "metadata": {},
            "source": "<h2 id=\"Makeup_Data\">Make Some Data</h2> "
        },
        {
            "cell_type": "markdown",
            "metadata": {},
            "source": "Load the training dataset by setting the parameters <code>train </code> to <code>True</code> and convert it to a tensor  by placing a transform object int the argument <code>transform</code>"
        },
        {
            "cell_type": "code",
            "execution_count": 6,
            "metadata": {},
            "outputs": [],
            "source": "# Create the train dataset\n\ntrain_dataset = dsets.MNIST(root='./data', train=True, download=True, transform=transforms.ToTensor())"
        },
        {
            "cell_type": "markdown",
            "metadata": {},
            "source": "Load the testing dataset by setting the parameters <code>train</code> to <code>False</code> and convert it to a tensor  by placing a transform object int the argument <code>transform</code>"
        },
        {
            "cell_type": "code",
            "execution_count": 7,
            "metadata": {},
            "outputs": [],
            "source": "# Create the validation dataset\n\nvalidation_dataset = dsets.MNIST(root='./data', train=False, download=True, transform=transforms.ToTensor())"
        },
        {
            "cell_type": "markdown",
            "metadata": {},
            "source": "Create the training-data loader and the validation-data loader object "
        },
        {
            "cell_type": "code",
            "execution_count": 8,
            "metadata": {},
            "outputs": [],
            "source": "# Create Dataloader for both train dataset and validation dataset\n\ntrain_loader = torch.utils.data.DataLoader(dataset=train_dataset, batch_size=2000, shuffle=True)\nvalidation_loader = torch.utils.data.DataLoader(dataset=validation_dataset, batch_size=5000, shuffle=False)"
        },
        {
            "cell_type": "markdown",
            "metadata": {},
            "source": "<!--Empty Space for separating topics-->"
        },
        {
            "cell_type": "markdown",
            "metadata": {},
            "source": "<h2 id=\"Cost\">Define Neural Network, Criterion function, Optimizer and Train the Model</h2> "
        },
        {
            "cell_type": "markdown",
            "metadata": {},
            "source": "Create the criterion function"
        },
        {
            "cell_type": "code",
            "execution_count": 9,
            "metadata": {},
            "outputs": [],
            "source": "# Define criterion function\n\ncriterion = nn.CrossEntropyLoss()"
        },
        {
            "cell_type": "markdown",
            "metadata": {},
            "source": "Create the model with 100 hidden layers  "
        },
        {
            "cell_type": "code",
            "execution_count": 10,
            "metadata": {},
            "outputs": [],
            "source": "# Set the parameters\n\ninput_dim = 28 * 28\noutput_dim = 10\nlayers = [input_dim, 100, 10, 100, 10, 100, output_dim]\nepochs = 15"
        },
        {
            "cell_type": "markdown",
            "metadata": {},
            "source": "<!--Empty Space for separating topics-->"
        },
        {
            "cell_type": "markdown",
            "metadata": {},
            "source": "<h2 id=\"Train\">Test PyTorch Default Initialization, Xavier Initialization, Uniform Initialization</h2> "
        },
        {
            "cell_type": "markdown",
            "metadata": {},
            "source": "Train the network using PyTorch Default Initialization"
        },
        {
            "cell_type": "code",
            "execution_count": 11,
            "metadata": {},
            "outputs": [],
            "source": "# Train the model with default initialization\n\nmodel = Net(layers)\nlearning_rate = 0.01\noptimizer = torch.optim.SGD(model.parameters(), lr=learning_rate)\ntraining_results = train(model, criterion, train_loader, validation_loader, optimizer, epochs=epochs)"
        },
        {
            "cell_type": "markdown",
            "metadata": {},
            "source": "Train the network using Xavier Initialization function"
        },
        {
            "cell_type": "code",
            "execution_count": 12,
            "metadata": {},
            "outputs": [],
            "source": "# Train the model with Xavier initialization\n\nmodel_Xavier = Net_Xavier(layers)\noptimizer = torch.optim.SGD(model_Xavier.parameters(), lr=learning_rate)\ntraining_results_Xavier = train(model_Xavier, criterion, train_loader, validation_loader, optimizer, epochs=epochs)"
        },
        {
            "cell_type": "markdown",
            "metadata": {},
            "source": "Train the network using Uniform Initialization"
        },
        {
            "cell_type": "code",
            "execution_count": 13,
            "metadata": {},
            "outputs": [],
            "source": "# Train the model with Uniform initialization\n\nmodel_Uniform = Net_Uniform(layers)\noptimizer = torch.optim.SGD(model_Uniform.parameters(), lr=learning_rate)\ntraining_results_Uniform = train(model_Uniform, criterion, train_loader, validation_loader, optimizer, epochs=epochs)"
        },
        {
            "cell_type": "markdown",
            "metadata": {},
            "source": "<!--Empty Space for separating topics-->"
        },
        {
            "cell_type": "markdown",
            "metadata": {},
            "source": "<h2 id=\"Result\">Analyse Results</h2> "
        },
        {
            "cell_type": "markdown",
            "metadata": {},
            "source": "Compare the training loss for each initialization"
        },
        {
            "cell_type": "code",
            "execution_count": 14,
            "metadata": {},
            "outputs": [
                {
                    "data": {
                        "text/plain": "<matplotlib.legend.Legend at 0x7f4ab5c84b38>"
                    },
                    "execution_count": 14,
                    "metadata": {},
                    "output_type": "execute_result"
                },
                {
                    "data": {
                        "image/png": "[encoded data removed]",
                        "text/plain": "<Figure size 432x288 with 1 Axes>"
                    },
                    "metadata": {
                        "needs_background": "light"
                    },
                    "output_type": "display_data"
                }
            ],
            "source": "# Plot the loss\n\nplt.plot(training_results_Xavier['training_loss'], label='Xavier')\nplt.plot(training_results['training_loss'], label='Default')\nplt.plot(training_results_Uniform['training_loss'], label='Uniform')\nplt.ylabel('loss')\nplt.xlabel('iteration ')  \nplt.title('training loss iterations')\nplt.legend()"
        },
        {
            "cell_type": "markdown",
            "metadata": {},
            "source": "compare the validation loss for each model  "
        },
        {
            "cell_type": "code",
            "execution_count": 15,
            "metadata": {},
            "outputs": [
                {
                    "data": {
                        "text/plain": "<matplotlib.legend.Legend at 0x7f4ab5bcee10>"
                    },
                    "execution_count": 15,
                    "metadata": {},
                    "output_type": "execute_result"
                },
                {
                    "data": {
                        "image/png": "[encoded data removed]",
                        "text/plain": "<Figure size 432x288 with 1 Axes>"
                    },
                    "metadata": {
                        "needs_background": "light"
                    },
                    "output_type": "display_data"
                }
            ],
            "source": "# Plot the accuracy\n\nplt.plot(training_results_Xavier['validation_accuracy'], label='Xavier')\nplt.plot(training_results['validation_accuracy'], label='Default')\nplt.plot(training_results_Uniform['validation_accuracy'], label='Uniform') \nplt.ylabel('validation accuracy')\nplt.xlabel('epochs')   \nplt.legend()"
        }
    ],
    "metadata": {
        "kernelspec": {
            "display_name": "Python 3.6",
            "language": "python",
            "name": "python3"
        },
        "language_info": {
            "codemirror_mode": {
                "name": "ipython",
                "version": 3
            },
            "file_extension": ".py",
            "mimetype": "text/x-python",
            "name": "python",
            "nbconvert_exporter": "python",
            "pygments_lexer": "ipython3",
            "version": "3.6.9"
        }
    },
    "nbformat": 4,
    "nbformat_minor": 2
}