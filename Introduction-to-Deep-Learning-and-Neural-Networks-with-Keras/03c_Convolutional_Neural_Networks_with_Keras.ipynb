{
    "cells": [
        {
            "cell_type": "markdown",
            "metadata": {},
            "source": "# Convolutional Neural Networks with Keras"
        },
        {
            "cell_type": "markdown",
            "metadata": {},
            "source": "In this lab, we will learn how to use the Keras library to build convolutional neural networks. We will also use the popular MNIST dataset and we will compare our results to using a conventional neural network.\n"
        },
        {
            "cell_type": "markdown",
            "metadata": {},
            "source": "## Import Keras and Packages"
        },
        {
            "cell_type": "markdown",
            "metadata": {},
            "source": "Let's start by importing the keras libraries and the packages that we would need to build a neural network."
        },
        {
            "cell_type": "code",
            "execution_count": 1,
            "metadata": {},
            "outputs": [
                {
                    "name": "stderr",
                    "output_type": "stream",
                    "text": "Using TensorFlow backend.\n"
                }
            ],
            "source": "import keras\nfrom keras.models import Sequential\nfrom keras.layers import Dense\nfrom keras.utils import to_categorical"
        },
        {
            "cell_type": "markdown",
            "metadata": {},
            "source": "When working with convolutional neural networks in particular, we will need additional packages."
        },
        {
            "cell_type": "code",
            "execution_count": 2,
            "metadata": {},
            "outputs": [],
            "source": "from keras.layers.convolutional import Conv2D # to add convolutional layers\nfrom keras.layers.convolutional import MaxPooling2D # to add pooling layers\nfrom keras.layers import Flatten # to flatten data for fully connected layers"
        },
        {
            "cell_type": "markdown",
            "metadata": {},
            "source": "<a id='item42'></a>"
        },
        {
            "cell_type": "markdown",
            "metadata": {},
            "source": "## Convolutional Layer with One set of convolutional and pooling layers"
        },
        {
            "cell_type": "code",
            "execution_count": 3,
            "metadata": {},
            "outputs": [
                {
                    "name": "stdout",
                    "output_type": "stream",
                    "text": "Downloading data from https://s3.amazonaws.com/img-datasets/mnist.npz\n11493376/11490434 [==============================] - 0s 0us/step\n"
                }
            ],
            "source": "# import data\nfrom keras.datasets import mnist\n\n# load data\n(X_train, y_train), (X_test, y_test) = mnist.load_data()\n\n# reshape to be [samples][pixels][width][height]\nX_train = X_train.reshape(X_train.shape[0], 28, 28, 1).astype('float32')\nX_test = X_test.reshape(X_test.shape[0], 28, 28, 1).astype('float32')"
        },
        {
            "cell_type": "markdown",
            "metadata": {},
            "source": "Let's normalize the pixel values to be between 0 and 1"
        },
        {
            "cell_type": "code",
            "execution_count": 4,
            "metadata": {},
            "outputs": [],
            "source": "X_train = X_train / 255 # normalize training data\nX_test = X_test / 255 # normalize test data"
        },
        {
            "cell_type": "markdown",
            "metadata": {},
            "source": "Next, let's convert the target variable into binary categories"
        },
        {
            "cell_type": "code",
            "execution_count": 5,
            "metadata": {},
            "outputs": [],
            "source": "y_train = to_categorical(y_train)\ny_test = to_categorical(y_test)\n\nnum_classes = y_test.shape[1] # number of categories"
        },
        {
            "cell_type": "markdown",
            "metadata": {},
            "source": "Next, let's define a function that creates our model. Let's start with one set of convolutional and pooling layers."
        },
        {
            "cell_type": "code",
            "execution_count": 6,
            "metadata": {},
            "outputs": [],
            "source": "def convolutional_model():\n    \n    # create model\n    model = Sequential()\n    model.add(Conv2D(16, (5, 5), strides=(1, 1), activation='relu', input_shape=(28, 28, 1)))\n    model.add(MaxPooling2D(pool_size=(2, 2), strides=(2, 2)))\n    \n    model.add(Flatten())\n    model.add(Dense(100, activation='relu'))\n    model.add(Dense(num_classes, activation='softmax'))\n    \n    # compile model\n    model.compile(optimizer='adam', loss='categorical_crossentropy',  metrics=['accuracy'])\n    return model"
        },
        {
            "cell_type": "markdown",
            "metadata": {},
            "source": "Finally, let's call the function to create the model, and then let's train it and evaluate it."
        },
        {
            "cell_type": "code",
            "execution_count": 7,
            "metadata": {},
            "outputs": [
                {
                    "name": "stdout",
                    "output_type": "stream",
                    "text": "WARNING:tensorflow:From /opt/conda/envs/Python36/lib/python3.6/site-packages/tensorflow/python/framework/op_def_library.py:263: colocate_with (from tensorflow.python.framework.ops) is deprecated and will be removed in a future version.\nInstructions for updating:\nColocations handled automatically by placer.\nWARNING:tensorflow:From /opt/conda/envs/Python36/lib/python3.6/site-packages/tensorflow/python/ops/math_ops.py:3066: to_int32 (from tensorflow.python.ops.math_ops) is deprecated and will be removed in a future version.\nInstructions for updating:\nUse tf.cast instead.\nTrain on 60000 samples, validate on 10000 samples\nEpoch 1/10\n - 83s - loss: 0.2844 - acc: 0.9221 - val_loss: 0.0971 - val_acc: 0.9731\nEpoch 2/10\n - 90s - loss: 0.0827 - acc: 0.9759 - val_loss: 0.0714 - val_acc: 0.9782\nEpoch 3/10\n - 84s - loss: 0.0569 - acc: 0.9827 - val_loss: 0.0511 - val_acc: 0.9840\nEpoch 4/10\n - 93s - loss: 0.0434 - acc: 0.9871 - val_loss: 0.0432 - val_acc: 0.9858\nEpoch 5/10\n - 88s - loss: 0.0337 - acc: 0.9897 - val_loss: 0.0474 - val_acc: 0.9844\nEpoch 6/10\n - 92s - loss: 0.0283 - acc: 0.9915 - val_loss: 0.0373 - val_acc: 0.9876\nEpoch 7/10\n - 84s - loss: 0.0234 - acc: 0.9930 - val_loss: 0.0380 - val_acc: 0.9879\nEpoch 8/10\n - 85s - loss: 0.0180 - acc: 0.9946 - val_loss: 0.0340 - val_acc: 0.9897\nEpoch 9/10\n - 82s - loss: 0.0146 - acc: 0.9955 - val_loss: 0.0383 - val_acc: 0.9882\nEpoch 10/10\n - 87s - loss: 0.0129 - acc: 0.9962 - val_loss: 0.0404 - val_acc: 0.9881\nAccuracy: 0.9881 \n Error: 1.1899999999999977\n"
                }
            ],
            "source": "# build the model\nmodel = convolutional_model()\n\n# fit the model\nmodel.fit(X_train, y_train, validation_data=(X_test, y_test), epochs=10, batch_size=200, verbose=2)\n\n# evaluate the model\nscores = model.evaluate(X_test, y_test, verbose=0)\nprint(\"Accuracy: {} \\n Error: {}\".format(scores[1], 100-scores[1]*100))"
        },
        {
            "cell_type": "markdown",
            "metadata": {},
            "source": "## Convolutional Layer with two sets of convolutional and pooling layers"
        },
        {
            "cell_type": "markdown",
            "metadata": {},
            "source": "Let's redefine our convolutional model so that it has two convolutional and pooling layers instead of just one layer of each."
        },
        {
            "cell_type": "code",
            "execution_count": 8,
            "metadata": {},
            "outputs": [],
            "source": "def convolutional_model():\n    \n    # create model\n    model = Sequential()\n    model.add(Conv2D(16, (5, 5), activation='relu', input_shape=(28, 28, 1)))\n    model.add(MaxPooling2D(pool_size=(2, 2), strides=(2, 2)))\n    \n    model.add(Conv2D(8, (2, 2), activation='relu'))\n    model.add(MaxPooling2D(pool_size=(2, 2), strides=(2, 2)))\n    \n    model.add(Flatten())\n    model.add(Dense(100, activation='relu'))\n    model.add(Dense(num_classes, activation='softmax'))\n    \n    # Compile model\n    model.compile(optimizer='adam', loss='categorical_crossentropy',  metrics=['accuracy'])\n    return model"
        },
        {
            "cell_type": "markdown",
            "metadata": {},
            "source": "Now, let's call the function to create our new convolutional neural network, and then let's train it and evaluate it."
        },
        {
            "cell_type": "code",
            "execution_count": 9,
            "metadata": {},
            "outputs": [
                {
                    "name": "stdout",
                    "output_type": "stream",
                    "text": "Train on 60000 samples, validate on 10000 samples\nEpoch 1/10\n - 209s - loss: 0.5255 - acc: 0.8469 - val_loss: 0.1620 - val_acc: 0.9545\nEpoch 2/10\n - 204s - loss: 0.1299 - acc: 0.9608 - val_loss: 0.0887 - val_acc: 0.9732\nEpoch 3/10\n - 213s - loss: 0.0851 - acc: 0.9741 - val_loss: 0.0660 - val_acc: 0.9798\nEpoch 4/10\n - 193s - loss: 0.0662 - acc: 0.9797 - val_loss: 0.0542 - val_acc: 0.9822\nEpoch 5/10\n - 190s - loss: 0.0544 - acc: 0.9832 - val_loss: 0.0449 - val_acc: 0.9856\nEpoch 6/10\n - 207s - loss: 0.0482 - acc: 0.9853 - val_loss: 0.0431 - val_acc: 0.9858\nEpoch 7/10\n - 196s - loss: 0.0437 - acc: 0.9862 - val_loss: 0.0480 - val_acc: 0.9861\nEpoch 8/10\n - 214s - loss: 0.0393 - acc: 0.9877 - val_loss: 0.0386 - val_acc: 0.9874\nEpoch 9/10\n - 196s - loss: 0.0358 - acc: 0.9885 - val_loss: 0.0341 - val_acc: 0.9882\nEpoch 10/10\n - 207s - loss: 0.0321 - acc: 0.9896 - val_loss: 0.0374 - val_acc: 0.9873\nAccuracy: 0.9873 \n Error: 1.2700000000000102\n"
                }
            ],
            "source": "# build the model\nmodel = convolutional_model()\n\n# fit the model\nmodel.fit(X_train, y_train, validation_data=(X_test, y_test), epochs=10, batch_size=200, verbose=2)\n\n# evaluate the model\nscores = model.evaluate(X_test, y_test, verbose=0)\nprint(\"Accuracy: {} \\n Error: {}\".format(scores[1], 100-scores[1]*100))"
        },
        {
            "cell_type": "markdown",
            "metadata": {},
            "source": "### Thank you for completing this lab!\n\nThis notebook was created by [Alex Aklson](https://www.linkedin.com/in/aklson/). I hope you found this lab interesting and educational. Feel free to contact me if you have any questions!"
        },
        {
            "cell_type": "markdown",
            "metadata": {},
            "source": "This notebook is part of a course on **Coursera** called *Introduction to Deep Learning & Neural Networks with Keras*. If you accessed this notebook outside the course, you can take this course online by clicking [here](https://cocl.us/DL0101EN_Coursera_Week4_LAB1)."
        },
        {
            "cell_type": "markdown",
            "metadata": {},
            "source": "<hr>\n\nCopyright &copy; 2019 [IBM Developer Skills Network](https://cognitiveclass.ai/?utm_source=bducopyrightlink&utm_medium=dswb&utm_campaign=bdu). This notebook and its source code are released under the terms of the [MIT License](https://bigdatauniversity.com/mit-license/)."
        }
    ],
    "metadata": {
        "kernelspec": {
            "display_name": "Python 3.6",
            "language": "python",
            "name": "python3"
        },
        "language_info": {
            "codemirror_mode": {
                "name": "ipython",
                "version": 3
            },
            "file_extension": ".py",
            "mimetype": "text/x-python",
            "name": "python",
            "nbconvert_exporter": "python",
            "pygments_lexer": "ipython3",
            "version": "3.6.9"
        }
    },
    "nbformat": 4,
    "nbformat_minor": 4
}
