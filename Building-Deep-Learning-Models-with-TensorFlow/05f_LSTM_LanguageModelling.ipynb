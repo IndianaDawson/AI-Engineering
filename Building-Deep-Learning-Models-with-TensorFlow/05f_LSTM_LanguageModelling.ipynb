{
    "cells": [
        {
            "cell_type": "markdown",
            "metadata": {},
            "source": "## RECURRENT NETWORKS and LSTM IN DEEP LEARNING"
        },
        {
            "cell_type": "markdown",
            "metadata": {},
            "source": "<h2>Applying Recurrent Neural Networks/LSTM for Language Modeling</h2>\nHello and welcome to this part. In this notebook, we will go over the topic of Language Modelling, and create a Recurrent Neural Network model based on the Long Short-Term Memory unit to train and benchmark on the Penn Treebank dataset. By the end of this notebook, you should be able to understand how TensorFlow builds and executes a RNN model for Language Modelling."
        },
        {
            "cell_type": "markdown",
            "metadata": {},
            "source": "<h2>The Objective</h2>\nBy now, you should have an understanding of how Recurrent Networks work -- a specialized model to process sequential data by keeping track of the \"state\" or context. In this notebook, we go over a TensorFlow code snippet for creating a model focused on <b>Language Modelling</b> -- a very relevant task that is the cornerstone of many different linguistic problems such as <b>Speech Recognition, Machine Translation and Image Captioning</b>. For this, we will be using the Penn Treebank dataset, which is an often-used dataset for benchmarking Language Modelling models."
        },
        {
            "cell_type": "markdown",
            "metadata": {},
            "source": "\n<h2>Table of Contents</h2>\n<ol>\n    <li><a href=\"#language_modelling\">What exactly is Language Modelling?</a></li>\n    <li><a href=\"#treebank_dataset\">The Penn Treebank dataset</a></li>\n    <li><a href=\"#word_embedding\">Work Embedding</a></li>\n    <li><a href=\"#building_lstm_model\">Building the LSTM model for Language Modeling</a></li>\n    <li><a href=\"#ltsm\">LTSM</a></li>\n</ol>\n<p></p>\n</div>\n<br>"
        },
        {
            "cell_type": "markdown",
            "metadata": {
                "button": false,
                "new_sheet": false,
                "run_control": {
                    "read_only": false
                }
            },
            "source": "--------"
        },
        {
            "cell_type": "markdown",
            "metadata": {
                "button": false,
                "new_sheet": false,
                "run_control": {
                    "read_only": false
                }
            },
            "source": "<a id=\"language_modelling\"></a>\n<h2>What exactly is Language Modelling?</h2>\nLanguage Modelling, to put it simply, <b>is the task of assigning probabilities to sequences of words</b>. This means that, given a context of one or a sequence of words in the language the model was trained on, the model should provide the next most probable words or sequence of words that follows from the given sequence of words the sentence. Language Modelling is one of the most important tasks in Natural Language Processing.\n\n<img src=\"https://ibm.box.com/shared/static/1d1i5gub6wljby2vani2vzxp0xsph702.png\" width=\"1080\">\n<center><i>Example of a sentence being predicted</i></center>\n<br><br>\nIn this example, one can see the predictions for the next word of a sentence, given the context \"This is an\". As you can see, this boils down to a sequential data analysis task -- you are given a word or a sequence of words (the input data), and, given the context (the state), you need to find out what is the next word (the prediction). This kind of analysis is very important for language-related tasks such as <b>Speech Recognition, Machine Translation, Image Captioning, Text Correction</b> and many other very relevant problems. \n\n<img src=\"https://ibm.box.com/shared/static/az39idf9ipfdpc5ugifpgxnydelhyf3i.png\" width=\"1080\">\n<center><i>The above example is a schema of an RNN in execution</i></center>\n<br><br>\nAs the above image shows, Recurrent Network models fit this problem like a glove. Alongside LSTM and its capacity to maintain the model's state for over one thousand time steps, we have all the tools we need to undertake this problem. The goal for this notebook is to create a model that can reach <b>low levels of perplexity</b> on our desired dataset.\n\nFor Language Modelling problems, <b>perplexity</b> is the way to gauge efficiency. Perplexity is simply a measure of how well a probabilistic model is able to predict its sample. A higher-level way to explain this would be saying that <b>low perplexity means a higher degree of trust in the predictions the model makes</b>. Therefore, the lower perplexity is, the better."
        },
        {
            "cell_type": "markdown",
            "metadata": {},
            "source": "<a id=\"treebank_dataset\"></a>\n<h2>The Penn Treebank dataset</h2>\nHistorically, datasets big enough for Natural Language Processing are hard to come by. This is in part due to the necessity of the sentences to be broken down and tagged with a certain degree of correctness -- or else the models trained on it won't be able to be correct at all. This means that we need a <b>large amount of data, annotated by or at least corrected by humans</b>. This is, of course, not an easy task at all.\n\nThe Penn Treebank, or PTB for short, is a dataset maintained by the University of Pennsylvania. It is <i>huge</i> -- there are over <b>four million and eight hundred thousand</b> annotated words in it, all corrected by humans. It is composed of many different sources, from abstracts of Department of Energy papers to texts from the Library of America. Since it is verifiably correct and of such a huge size, the Penn Treebank is commonly used as a benchmark dataset for Language Modelling.\n\nThe dataset is divided in different kinds of annotations, such as Piece-of-Speech, Syntactic and Semantic skeletons. For this example, we will simply use a sample of clean, non-annotated words (with the exception of one tag --<code>&lt;unk&gt;</code>\n, which is used for rare words such as uncommon proper nouns) for our model. This means that we just want to predict what the next words would be, not what they mean in context or their classes on a given sentence.\n\n<center>Example of text from the dataset we are going to use, <b>ptb.train</b></center>\n<br><br>\n\n<div class=\"alert alert-block alert-info\" style=\"margin-top: 20px\">\n    <center>the percentage of lung cancer deaths among the workers at the west <code>&lt;unk&gt;</code> mass. paper factory appears to be the highest for any asbestos workers studied in western industrialized countries he said \n the plant which is owned by <code>&lt;unk&gt;</code> & <code>&lt;unk&gt;</code> co. was under contract with <code>&lt;unk&gt;</code> to make the cigarette filters \n the finding probably will support those who argue that the U.S. should regulate the class of asbestos including <code>&lt;unk&gt;</code> more <code>&lt;unk&gt;</code> than the common kind of asbestos <code>&lt;unk&gt;</code> found in most schools and other buildings dr. <code>&lt;unk&gt;</code> said</center>\n</div>"
        },
        {
            "cell_type": "markdown",
            "metadata": {
                "button": false,
                "new_sheet": false,
                "run_control": {
                    "read_only": false
                }
            },
            "source": "<a id=\"word_embedding\"></a>\n<h2>Word Embeddings</h2><br/>\n\nFor better processing, in this example, we will make use of <a href=\"https://www.tensorflow.org/tutorials/word2vec/\"><b>word embeddings</b></a>, which is <b>a way of representing sentence structures or words as n-dimensional vectors (where n is a reasonably high number, such as 200 or 500) of real numbers</b>. Basically, we will assign each word a randomly-initialized vector, and input those into the network to be processed. After a number of iterations, these vectors are expected to assume values that help the network to correctly predict what it needs to -- in our case, the probable next word in the sentence. This is shown to be a very effective task in Natural Language Processing, and is a commonplace practice.\n<br><br>\n<font size=\"4\"><strong>\n$$Vec(\"Example\") = [0.02, 0.00, 0.00, 0.92, 0.30, \\ldots]$$\n</strong></font>\n<br>\nWord Embedding tends to group up similarly used words <i>reasonably</i> close together in the vectorial space. For example, if we use T-SNE (a dimensional reduction visualization algorithm) to flatten the dimensions of our vectors into a 2-dimensional space and plot these words in a 2-dimensional space, we might see something like this:\n\n<img src=\"https://ibm.box.com/shared/static/bqhc5dg879gcoabzhxra1w8rkg3od1cu.png\" width=\"800\">\n<center><i>T-SNE Mockup with clusters marked for easier visualization</i></center>\n<br><br>\nAs you can see, words that are frequently used together, in place of each other, or in the same places as them tend to be grouped together -- being closer together the higher they are correlated. For example, \"None\" is pretty semantically close to \"Zero\", while a phrase that uses \"Italy\", you could probably also fit \"Germany\" in it, with little damage to the sentence structure. The vectorial \"closeness\" for similar words like this is a great indicator of a well-built model.\n\n<hr>\n "
        },
        {
            "cell_type": "markdown",
            "metadata": {
                "button": false,
                "new_sheet": false,
                "run_control": {
                    "read_only": false
                }
            },
            "source": "We need to import the necessary modules for our code. We need <b><code>numpy</code></b> and <b><code>tensorflow</code></b>, obviously. Additionally, we can import directly the <b><code>tensorflow.models.rnn</code></b> model, which includes the function for building RNNs, and <b><code>tensorflow.models.rnn.ptb.reader</code></b> which is the helper module for getting the input data from the dataset we just downloaded.\n\nIf you want to learn more take a look at https://github.com/tensorflow/models/blob/master/tutorials/rnn/ptb/reader.py"
        },
        {
            "cell_type": "code",
            "execution_count": 1,
            "metadata": {
                "button": false,
                "new_sheet": false,
                "run_control": {
                    "read_only": false
                }
            },
            "outputs": [],
            "source": "import time\nimport numpy as np\nimport tensorflow as tf"
        },
        {
            "cell_type": "code",
            "execution_count": 2,
            "metadata": {
                "button": false,
                "new_sheet": false,
                "run_control": {
                    "read_only": false
                }
            },
            "outputs": [
                {
                    "name": "stdout",
                    "output_type": "stream",
                    "text": "mkdir: cannot create directory \u2018data\u2019: File exists\nArchive:  data/ptb.zip\n  inflating: data/ptb/reader.py      \n  inflating: data/__MACOSX/ptb/._reader.py  \n  inflating: data/__MACOSX/._ptb     \n"
                }
            ],
            "source": "!mkdir data\n!wget -q -O data/ptb.zip https://ibm.box.com/shared/static/z2yvmhbskc45xd2a9a4kkn6hg4g4kj5r.zip\n!unzip -o data/ptb.zip -d data\n!cp data/ptb/reader.py .\n\nimport reader"
        },
        {
            "cell_type": "markdown",
            "metadata": {
                "button": false,
                "new_sheet": false,
                "run_control": {
                    "read_only": false
                }
            },
            "source": "<a id=\"building_lstm_model\"></a>\n<h2>Building the LSTM model for Language Modeling</h2>\nNow that we know exactly what we are doing, we can start building our model using TensorFlow. The very first thing we need to do is download and extract the <code>simple-examples</code> dataset, which can be done by executing the code cell below."
        },
        {
            "cell_type": "code",
            "execution_count": 3,
            "metadata": {
                "button": false,
                "new_sheet": false,
                "run_control": {
                    "read_only": false
                }
            },
            "outputs": [
                {
                    "name": "stdout",
                    "output_type": "stream",
                    "text": "--2020-09-03 17:12:24--  http://www.fit.vutbr.cz/~imikolov/rnnlm/simple-examples.tgz\nResolving www.fit.vutbr.cz (www.fit.vutbr.cz)... 147.229.9.23, 2001:67c:1220:809::93e5:917\nConnecting to www.fit.vutbr.cz (www.fit.vutbr.cz)|147.229.9.23|:80... connected.\nHTTP request sent, awaiting response... 200 OK\nLength: 34869662 (33M) [application/x-gtar]\nSaving to: \u2018simple-examples.tgz.1\u2019\n\n100%[======================================>] 34,869,662  1.88MB/s   in 13s    \n\n2020-09-03 17:12:37 (2.60 MB/s) - \u2018simple-examples.tgz.1\u2019 saved [34869662/34869662]\n\n"
                }
            ],
            "source": "!wget http://www.fit.vutbr.cz/~imikolov/rnnlm/simple-examples.tgz \n!tar xzf simple-examples.tgz -C data/"
        },
        {
            "cell_type": "markdown",
            "metadata": {
                "button": false,
                "new_sheet": false,
                "run_control": {
                    "read_only": false
                }
            },
            "source": "Additionally, for the sake of making it easy to play around with the model's hyperparameters, we can declare them beforehand. Feel free to change these -- you will see a difference in performance each time you change those!  \n"
        },
        {
            "cell_type": "code",
            "execution_count": 4,
            "metadata": {
                "button": false,
                "new_sheet": false,
                "run_control": {
                    "read_only": false
                }
            },
            "outputs": [],
            "source": "#Initial weight scale\ninit_scale = 0.1\n#Initial learning rate\nlearning_rate = 1.0\n#Maximum permissible norm for the gradient (For gradient clipping -- another measure against Exploding Gradients)\nmax_grad_norm = 5\n#The number of layers in our model\nnum_layers = 2\n#The total number of recurrence steps, also known as the number of layers when our RNN is \"unfolded\"\nnum_steps = 20\n#The number of processing units (neurons) in the hidden layers\nhidden_size_l1 = 256\nhidden_size_l2 = 128\n#The maximum number of epochs trained with the initial learning rate\nmax_epoch_decay_lr = 4\n#The total number of epochs in training\nmax_epoch = 2\n#The probability for keeping data in the Dropout Layer (This is an optimization, but is outside our scope for this notebook!)\n#At 1, we ignore the Dropout Layer wrapping.\nkeep_prob = 1\n#The decay for the learning rate\ndecay = 0.5\n#The size for each batch of data\nbatch_size = 60\n#The size of our vocabulary\nvocab_size = 10000\nembeding_vector_size = 200\n#Training flag to separate training from testing\nis_training = 1\n#Data directory for our dataset\ndata_dir = \"data/simple-examples/data/\""
        },
        {
            "cell_type": "markdown",
            "metadata": {
                "button": false,
                "new_sheet": false,
                "run_control": {
                    "read_only": false
                }
            },
            "source": "Some clarifications for LSTM architecture based on the arguments:\n\nNetwork structure:\n<ul>\n    <li>In this network, the number of LSTM cells are 2. To give the model more expressive power, we can add multiple layers of LSTMs to process the data. The output of the first layer will become the input of the second and so on.\n    </li>\n    <li>The recurrence steps is 20, that is, when our RNN is \"Unfolded\", the recurrence step is 20.</li>   \n    <li>the structure is like:\n        <ul>\n            <li>200 input units -> [200x200] Weight -> 200 Hidden units (first layer) -> [200x200] Weight matrix  -> 200 Hidden units (second layer) ->  [200] weight Matrix -> 200 unit output</li>\n        </ul>\n    </li>\n</ul>\n<br>\n\nInput layer: \n<ul>\n    <li>The network has 200 input units.</li>\n    <li>Suppose each word is represented by an embedding vector of dimensionality e=200. The input layer of each cell will have 200 linear units. These e=200 linear units are connected to each of the h=200 LSTM units in the hidden layer (assuming there is only one hidden layer, though our case has 2 layers).\n    </li>\n    <li>The input shape is [batch_size, num_steps], that is [30x20]. It will turn into [30x20x200] after embedding, and then 20x[30x200]\n    </li>\n</ul>\n<br>\n\nHidden layer:\n<ul>\n    <li>Each LSTM has 200 hidden units which is equivalent to the dimensionality of the embedding words and output.</li>\n</ul>\n<br>"
        },
        {
            "cell_type": "markdown",
            "metadata": {
                "button": false,
                "new_sheet": false,
                "run_control": {
                    "read_only": false
                }
            },
            "source": "There is a lot to be done and a ton of information to process at the same time, so go over this code slowly. It may seem complex at first, but if you try to apply what you just learned about language modelling to the code you see, you should be able to understand it.\n\nThis code is adapted from the <a href=\"https://github.com/tensorflow/models\">PTBModel</a> example bundled with the TensorFlow source code.\n\n\n<h4>Train data</h4>\nThe story starts from data:\n<ul>\n    <li>Train data is a list of words, of size 929589, represented by numbers, e.g. [9971, 9972, 9974, 9975,...]</li>\n    <li>We read data as mini-batch of size b=30. Assume the size of each sentence is 20 words (num_steps = 20). Then it will take $$floor(\\frac{N}{b \\times h})+1=1548$$ iterations for the learner to go through all sentences once. Where N is the size of the list of words, b is batch size, andh is size of each sentence. So, the number of iterators is 1548\n    </li>\n    <li>Each batch data is read from train dataset of size 600, and shape of [30x20]</li>\n</ul>"
        },
        {
            "cell_type": "markdown",
            "metadata": {
                "button": false,
                "new_sheet": false,
                "run_control": {
                    "read_only": false
                }
            },
            "source": "First we start an interactive session:"
        },
        {
            "cell_type": "code",
            "execution_count": 5,
            "metadata": {
                "button": false,
                "new_sheet": false,
                "run_control": {
                    "read_only": false
                }
            },
            "outputs": [],
            "source": "session = tf.InteractiveSession()"
        },
        {
            "cell_type": "code",
            "execution_count": 6,
            "metadata": {
                "button": false,
                "new_sheet": false,
                "run_control": {
                    "read_only": false
                }
            },
            "outputs": [],
            "source": "# Reads the data and separates it into training data, validation data and testing data\nraw_data = reader.ptb_raw_data(data_dir)\ntrain_data, valid_data, test_data, vocab, word_to_id = raw_data"
        },
        {
            "cell_type": "code",
            "execution_count": 7,
            "metadata": {},
            "outputs": [
                {
                    "data": {
                        "text/plain": "929589"
                    },
                    "execution_count": 7,
                    "metadata": {},
                    "output_type": "execute_result"
                }
            ],
            "source": "len(train_data)"
        },
        {
            "cell_type": "code",
            "execution_count": 8,
            "metadata": {},
            "outputs": [
                {
                    "name": "stdout",
                    "output_type": "stream",
                    "text": "['aer', 'banknote', 'berlitz', 'calloway', 'centrust', 'cluett', 'fromstein', 'gitano', 'guterman', 'hydro-quebec', 'ipo', 'kia', 'memotec', 'mlx', 'nahb', 'punts', 'rake', 'regatta', 'rubens', 'sim', 'snack-food', 'ssangyong', 'swapo', 'wachter', '<eos>', 'pierre', '<unk>', 'N', 'years', 'old', 'will', 'join', 'the', 'board', 'as', 'a', 'nonexecutive', 'director', 'nov.', 'N', '<eos>', 'mr.', '<unk>', 'is', 'chairman', 'of', '<unk>', 'n.v.', 'the', 'dutch', 'publishing', 'group', '<eos>', 'rudolph', '<unk>', 'N', 'years', 'old', 'and', 'former', 'chairman', 'of', 'consolidated', 'gold', 'fields', 'plc', 'was', 'named', 'a', 'nonexecutive', 'director', 'of', 'this', 'british', 'industrial', 'conglomerate', '<eos>', 'a', 'form', 'of', 'asbestos', 'once', 'used', 'to', 'make', 'kent', 'cigarette', 'filters', 'has', 'caused', 'a', 'high', 'percentage', 'of', 'cancer', 'deaths', 'among', 'a', 'group', 'of']\n"
                }
            ],
            "source": "def id_to_word(id_list):\n    line = []\n    for w in id_list:\n        for word, wid in word_to_id.items():\n            if wid == w:\n                line.append(word)\n    return line            \n                \n\nprint(id_to_word(train_data[0:100]))"
        },
        {
            "cell_type": "markdown",
            "metadata": {
                "button": false,
                "new_sheet": false,
                "run_control": {
                    "read_only": false
                }
            },
            "source": "Lets just read one mini-batch now and feed our network:"
        },
        {
            "cell_type": "code",
            "execution_count": 9,
            "metadata": {
                "button": false,
                "new_sheet": false,
                "run_control": {
                    "read_only": false
                }
            },
            "outputs": [],
            "source": "itera = reader.ptb_iterator(train_data, batch_size, num_steps)\nfirst_touple = itera.__next__()\nx = first_touple[0]\ny = first_touple[1]"
        },
        {
            "cell_type": "code",
            "execution_count": 10,
            "metadata": {
                "button": false,
                "new_sheet": false,
                "run_control": {
                    "read_only": false
                }
            },
            "outputs": [
                {
                    "data": {
                        "text/plain": "(60, 20)"
                    },
                    "execution_count": 10,
                    "metadata": {},
                    "output_type": "execute_result"
                }
            ],
            "source": "x.shape"
        },
        {
            "cell_type": "markdown",
            "metadata": {
                "button": false,
                "new_sheet": false,
                "run_control": {
                    "read_only": false
                }
            },
            "source": "Lets look at 3 sentences of our input x:"
        },
        {
            "cell_type": "code",
            "execution_count": 11,
            "metadata": {
                "button": false,
                "new_sheet": false,
                "run_control": {
                    "read_only": false
                }
            },
            "outputs": [
                {
                    "data": {
                        "text/plain": "array([[9970, 9971, 9972, 9974, 9975, 9976, 9980, 9981, 9982, 9983, 9984,\n        9986, 9987, 9988, 9989, 9991, 9992, 9993, 9994, 9995],\n       [ 901,   33, 3361,    8, 1279,  437,  597,    6,  261, 4276, 1089,\n           8, 2836,    2,  269,    4, 5526,  241,   13, 2420],\n       [2654,    6,  334, 2886,    4,    1,  233,  711,  834,   11,  130,\n         123,    7,  514,    2,   63,   10,  514,    8,  605]],\n      dtype=int32)"
                    },
                    "execution_count": 11,
                    "metadata": {},
                    "output_type": "execute_result"
                }
            ],
            "source": "x[0:3]"
        },
        {
            "cell_type": "markdown",
            "metadata": {
                "button": false,
                "new_sheet": false,
                "run_control": {
                    "read_only": false
                }
            },
            "source": "we define 2 place holders to feed them with mini-batchs, that is x and y:"
        },
        {
            "cell_type": "code",
            "execution_count": 12,
            "metadata": {
                "button": false,
                "new_sheet": false,
                "run_control": {
                    "read_only": false
                }
            },
            "outputs": [],
            "source": "_input_data = tf.placeholder(tf.int32, [batch_size, num_steps]) #[30#20]\n_targets = tf.placeholder(tf.int32, [batch_size, num_steps]) #[30#20]"
        },
        {
            "cell_type": "markdown",
            "metadata": {
                "button": false,
                "new_sheet": false,
                "run_control": {
                    "read_only": false
                }
            },
            "source": "Lets define a dictionary, and use it later to feed the placeholders with our first mini-batch:"
        },
        {
            "cell_type": "code",
            "execution_count": 13,
            "metadata": {
                "button": false,
                "new_sheet": false,
                "run_control": {
                    "read_only": false
                }
            },
            "outputs": [],
            "source": "feed_dict = {_input_data:x, _targets:y}"
        },
        {
            "cell_type": "markdown",
            "metadata": {
                "button": false,
                "new_sheet": false,
                "run_control": {
                    "read_only": false
                }
            },
            "source": "For example, we can use it to feed <code>\\_input\\_data</code>:"
        },
        {
            "cell_type": "code",
            "execution_count": 14,
            "metadata": {
                "button": false,
                "new_sheet": false,
                "run_control": {
                    "read_only": false
                }
            },
            "outputs": [
                {
                    "data": {
                        "text/plain": "array([[9970, 9971, 9972, ..., 9993, 9994, 9995],\n       [ 901,   33, 3361, ...,  241,   13, 2420],\n       [2654,    6,  334, ...,  514,    8,  605],\n       ...,\n       [7831,   36, 1678, ...,    4, 4558,  157],\n       [  59, 2070, 2433, ...,  400,    1, 1173],\n       [2097,    3,    2, ..., 2043,   23,    1]], dtype=int32)"
                    },
                    "execution_count": 14,
                    "metadata": {},
                    "output_type": "execute_result"
                }
            ],
            "source": "session.run(_input_data, feed_dict)"
        },
        {
            "cell_type": "markdown",
            "metadata": {
                "button": false,
                "new_sheet": false,
                "run_control": {
                    "read_only": false
                }
            },
            "source": "In this step, we create the stacked LSTM, which is a 2 layer LSTM network:"
        },
        {
            "cell_type": "code",
            "execution_count": 15,
            "metadata": {
                "button": false,
                "new_sheet": false,
                "run_control": {
                    "read_only": false
                }
            },
            "outputs": [
                {
                    "name": "stdout",
                    "output_type": "stream",
                    "text": "\nWARNING: The TensorFlow contrib module will not be included in TensorFlow 2.0.\nFor more information, please see:\n  * https://github.com/tensorflow/community/blob/master/rfcs/20180907-contrib-sunset.md\n  * https://github.com/tensorflow/addons\nIf you depend on functionality not listed there, please file an issue.\n\nWARNING:tensorflow:From <ipython-input-15-ddf565d0e753>:1: BasicLSTMCell.__init__ (from tensorflow.python.ops.rnn_cell_impl) is deprecated and will be removed in a future version.\nInstructions for updating:\nThis class is equivalent as tf.keras.layers.LSTMCell, and will be replaced by that in Tensorflow 2.0.\nWARNING:tensorflow:From <ipython-input-15-ddf565d0e753>:3: MultiRNNCell.__init__ (from tensorflow.python.ops.rnn_cell_impl) is deprecated and will be removed in a future version.\nInstructions for updating:\nThis class is equivalent as tf.keras.layers.StackedRNNCells, and will be replaced by that in Tensorflow 2.0.\n"
                }
            ],
            "source": "lstm_cell_l1 = tf.contrib.rnn.BasicLSTMCell(hidden_size_l1, forget_bias=0.0)\nlstm_cell_l2 = tf.contrib.rnn.BasicLSTMCell(hidden_size_l2, forget_bias=0.0)\nstacked_lstm = tf.contrib.rnn.MultiRNNCell([lstm_cell_l1, lstm_cell_l2])"
        },
        {
            "cell_type": "markdown",
            "metadata": {
                "button": false,
                "new_sheet": false,
                "run_control": {
                    "read_only": false
                }
            },
            "source": "Also, we initialize the states of the nework:\n\n<h4>_initial_state</h4>\n\nFor each LCTM, there are 2 state matrices, c\\_state and m\\_state.  c_state and m_state represent \"Memory State\" and \"Cell State\". Each hidden layer, has a vector of size 30, which keeps the states. so, for 200 hidden units in each LSTM, we have a matrix of size [30x200]"
        },
        {
            "cell_type": "code",
            "execution_count": 16,
            "metadata": {
                "button": false,
                "new_sheet": false,
                "run_control": {
                    "read_only": false
                }
            },
            "outputs": [
                {
                    "data": {
                        "text/plain": "(LSTMStateTuple(c=<tf.Tensor 'MultiRNNCellZeroState/BasicLSTMCellZeroState/zeros:0' shape=(60, 256) dtype=float32>, h=<tf.Tensor 'MultiRNNCellZeroState/BasicLSTMCellZeroState/zeros_1:0' shape=(60, 256) dtype=float32>),\n LSTMStateTuple(c=<tf.Tensor 'MultiRNNCellZeroState/BasicLSTMCellZeroState_1/zeros:0' shape=(60, 128) dtype=float32>, h=<tf.Tensor 'MultiRNNCellZeroState/BasicLSTMCellZeroState_1/zeros_1:0' shape=(60, 128) dtype=float32>))"
                    },
                    "execution_count": 16,
                    "metadata": {},
                    "output_type": "execute_result"
                }
            ],
            "source": "_initial_state = stacked_lstm.zero_state(batch_size, tf.float32)\n_initial_state"
        },
        {
            "cell_type": "markdown",
            "metadata": {
                "button": false,
                "new_sheet": false,
                "run_control": {
                    "read_only": false
                }
            },
            "source": "Lets look at the states, though they are all zero for now:"
        },
        {
            "cell_type": "code",
            "execution_count": 17,
            "metadata": {
                "button": false,
                "new_sheet": false,
                "run_control": {
                    "read_only": false
                }
            },
            "outputs": [
                {
                    "data": {
                        "text/plain": "(LSTMStateTuple(c=array([[0., 0., 0., ..., 0., 0., 0.],\n        [0., 0., 0., ..., 0., 0., 0.],\n        [0., 0., 0., ..., 0., 0., 0.],\n        ...,\n        [0., 0., 0., ..., 0., 0., 0.],\n        [0., 0., 0., ..., 0., 0., 0.],\n        [0., 0., 0., ..., 0., 0., 0.]], dtype=float32), h=array([[0., 0., 0., ..., 0., 0., 0.],\n        [0., 0., 0., ..., 0., 0., 0.],\n        [0., 0., 0., ..., 0., 0., 0.],\n        ...,\n        [0., 0., 0., ..., 0., 0., 0.],\n        [0., 0., 0., ..., 0., 0., 0.],\n        [0., 0., 0., ..., 0., 0., 0.]], dtype=float32)),\n LSTMStateTuple(c=array([[0., 0., 0., ..., 0., 0., 0.],\n        [0., 0., 0., ..., 0., 0., 0.],\n        [0., 0., 0., ..., 0., 0., 0.],\n        ...,\n        [0., 0., 0., ..., 0., 0., 0.],\n        [0., 0., 0., ..., 0., 0., 0.],\n        [0., 0., 0., ..., 0., 0., 0.]], dtype=float32), h=array([[0., 0., 0., ..., 0., 0., 0.],\n        [0., 0., 0., ..., 0., 0., 0.],\n        [0., 0., 0., ..., 0., 0., 0.],\n        ...,\n        [0., 0., 0., ..., 0., 0., 0.],\n        [0., 0., 0., ..., 0., 0., 0.],\n        [0., 0., 0., ..., 0., 0., 0.]], dtype=float32)))"
                    },
                    "execution_count": 17,
                    "metadata": {},
                    "output_type": "execute_result"
                }
            ],
            "source": "session.run(_initial_state, feed_dict)"
        },
        {
            "cell_type": "markdown",
            "metadata": {
                "button": false,
                "new_sheet": false,
                "run_control": {
                    "read_only": false
                }
            },
            "source": "<h3>Embeddings</h3>\nWe have to convert the words in our dataset to vectors of numbers. The traditional approach is to use one-hot encoding method that is usually used for converting categorical values to numerical values. However, One-hot encoded vectors are high-dimensional, sparse and in a big dataset, computationally inefficient. So, we use word2vec approach. It is, in fact, a layer in our LSTM network, where the word IDs will be represented as a dense representation before feeding to the LSTM. \n\nThe embedded vectors also get updated during the training process of the deep neural network.\nWe create the embeddings for our input data. <b>embedding_vocab</b> is matrix of [10000x200] for all 10000 unique words."
        },
        {
            "cell_type": "code",
            "execution_count": 18,
            "metadata": {
                "button": false,
                "new_sheet": false,
                "run_control": {
                    "read_only": false
                }
            },
            "outputs": [
                {
                    "name": "stdout",
                    "output_type": "stream",
                    "text": "WARNING:tensorflow:From /opt/conda/envs/Python36/lib/python3.6/site-packages/tensorflow/python/framework/op_def_library.py:263: colocate_with (from tensorflow.python.framework.ops) is deprecated and will be removed in a future version.\nInstructions for updating:\nColocations handled automatically by placer.\n"
                }
            ],
            "source": "embedding_vocab = tf.get_variable(\"embedding_vocab\", [vocab_size, embeding_vector_size])  #[10000x200]"
        },
        {
            "cell_type": "markdown",
            "metadata": {},
            "source": "Lets initialize the <code>embedding_words</code> variable with random values."
        },
        {
            "cell_type": "code",
            "execution_count": 19,
            "metadata": {
                "button": false,
                "new_sheet": false,
                "run_control": {
                    "read_only": false
                }
            },
            "outputs": [
                {
                    "data": {
                        "text/plain": "array([[ 0.0083408 , -0.00278925, -0.01137338, ..., -0.00472936,\n         0.00517101, -0.00600784],\n       [ 0.00827287,  0.0126082 ,  0.00349623, ...,  0.01482801,\n         0.00031557,  0.00438066],\n       [ 0.00497982, -0.01013808, -0.00372207, ..., -0.00514212,\n         0.02054412, -0.01583156],\n       ...,\n       [ 0.00425484, -0.01111858,  0.0141929 , ..., -0.00353461,\n         0.00603018,  0.00754363],\n       [ 0.01683687, -0.0140508 ,  0.01796849, ...,  0.00347503,\n         0.02317714,  0.00052448],\n       [-0.01755271, -0.0014569 ,  0.00991641, ...,  0.02287869,\n        -0.00742904, -0.00493381]], dtype=float32)"
                    },
                    "execution_count": 19,
                    "metadata": {},
                    "output_type": "execute_result"
                }
            ],
            "source": "session.run(tf.global_variables_initializer())\nsession.run(embedding_vocab)"
        },
        {
            "cell_type": "markdown",
            "metadata": {
                "button": false,
                "new_sheet": false,
                "run_control": {
                    "read_only": false
                }
            },
            "source": "<b>embedding_lookup()</b> finds the embedded values for our batch of 30x20 words. It  goes to each row of <code>input_data</code>, and for each word in the row/sentence, finds the correspond vector in <code>embedding_dic<code>. <br>\nIt creates a [30x20x200] tensor, so, the first element of <b>inputs</b> (the first sentence), is a matrix of 20x200, which each row of it, is vector representing a word in the sentence."
        },
        {
            "cell_type": "code",
            "execution_count": 20,
            "metadata": {
                "button": false,
                "new_sheet": false,
                "run_control": {
                    "read_only": false
                }
            },
            "outputs": [
                {
                    "data": {
                        "text/plain": "<tf.Tensor 'embedding_lookup/Identity:0' shape=(60, 20, 200) dtype=float32>"
                    },
                    "execution_count": 20,
                    "metadata": {},
                    "output_type": "execute_result"
                }
            ],
            "source": "# Define where to get the data for our embeddings from\ninputs = tf.nn.embedding_lookup(embedding_vocab, _input_data)  #shape=(30, 20, 200) \ninputs"
        },
        {
            "cell_type": "code",
            "execution_count": 21,
            "metadata": {
                "button": false,
                "new_sheet": false,
                "run_control": {
                    "read_only": false
                }
            },
            "outputs": [
                {
                    "data": {
                        "text/plain": "array([[ 0.01961999,  0.01580472, -0.00095637, ...,  0.01168156,\n         0.01777957, -0.00313217],\n       [-0.01986856,  0.0084313 , -0.006231  , ..., -0.01036406,\n        -0.00393328,  0.01778508],\n       [-0.01171943,  0.00532867, -0.01812308, ...,  0.02421527,\n        -0.02006691,  0.00930615],\n       ...,\n       [ 0.00626082, -0.00658595, -0.00734052, ..., -0.01543797,\n        -0.02138419, -0.01801551],\n       [-0.00222069, -0.01147033,  0.0043081 , ...,  0.00276125,\n         0.01818833, -0.01502482],\n       [ 0.01913725,  0.00492716, -0.00718203, ...,  0.0208816 ,\n        -0.00193416,  0.01984941]], dtype=float32)"
                    },
                    "execution_count": 21,
                    "metadata": {},
                    "output_type": "execute_result"
                }
            ],
            "source": "session.run(inputs[0], feed_dict)"
        },
        {
            "cell_type": "markdown",
            "metadata": {
                "button": false,
                "new_sheet": false,
                "run_control": {
                    "read_only": false
                }
            },
            "source": "<h3>Constructing Recurrent Neural Networks</h3>\n<b>tf.nn.dynamic_rnn()</b> creates a recurrent neural network using <b>stacked_lstm</b>. \n\nThe input should be a Tensor of shape: [batch_size, max_time, embedding_vector_size], in our case it would be (30, 20, 200)\n\nThis method, returns a pair (outputs, new_state) where:\n<ul>\n    <li><b>outputs</b>: is a length T list of outputs (one for each input), or a nested tuple of such elements.</li>\n    <li><b>new_state</b>: is the final state.</li>\n</ul>"
        },
        {
            "cell_type": "code",
            "execution_count": 22,
            "metadata": {
                "button": false,
                "new_sheet": false,
                "run_control": {
                    "read_only": false
                },
                "scrolled": true
            },
            "outputs": [
                {
                    "name": "stdout",
                    "output_type": "stream",
                    "text": "WARNING:tensorflow:From <ipython-input-22-f5b68f99f9ac>:1: dynamic_rnn (from tensorflow.python.ops.rnn) is deprecated and will be removed in a future version.\nInstructions for updating:\nPlease use `keras.layers.RNN(cell)`, which is equivalent to this API\n"
                }
            ],
            "source": "outputs, new_state =  tf.nn.dynamic_rnn(stacked_lstm, inputs, initial_state=_initial_state)"
        },
        {
            "cell_type": "markdown",
            "metadata": {
                "button": false,
                "new_sheet": false,
                "run_control": {
                    "read_only": false
                }
            },
            "source": "so, lets look at the outputs. The output of the stackedLSTM comes from 200 hidden_layer, and in each time step(=20), one of them get activated. we use the linear activation to map the 200 hidden layer to a [?x10 matrix]"
        },
        {
            "cell_type": "code",
            "execution_count": 23,
            "metadata": {
                "button": false,
                "new_sheet": false,
                "run_control": {
                    "read_only": false
                }
            },
            "outputs": [
                {
                    "data": {
                        "text/plain": "<tf.Tensor 'rnn/transpose_1:0' shape=(60, 20, 128) dtype=float32>"
                    },
                    "execution_count": 23,
                    "metadata": {},
                    "output_type": "execute_result"
                }
            ],
            "source": "outputs"
        },
        {
            "cell_type": "code",
            "execution_count": 24,
            "metadata": {
                "button": false,
                "new_sheet": false,
                "run_control": {
                    "read_only": false
                }
            },
            "outputs": [
                {
                    "data": {
                        "text/plain": "array([[-1.8343012e-04, -6.0098733e-05,  2.2265488e-04, ...,\n         2.0740541e-04, -2.2954197e-05,  6.8696402e-04],\n       [-5.0408702e-04, -1.6624513e-04,  7.2668196e-04, ...,\n         3.5836780e-04,  7.6061778e-04,  8.5409428e-04],\n       [-9.5038215e-04, -9.0161477e-05,  7.9972117e-04, ...,\n         2.0892493e-04,  6.5711577e-04,  4.0463640e-04],\n       ...,\n       [ 3.7105283e-04, -3.7377805e-04,  6.9950637e-04, ...,\n         1.2309127e-04, -2.2839052e-04, -5.0817867e-04],\n       [ 2.6558992e-04, -3.8576726e-04,  8.8546381e-05, ...,\n         3.5115131e-04,  1.4743030e-04, -6.1531633e-04],\n       [ 1.8451606e-04, -6.0659822e-04, -2.0549467e-04, ...,\n        -2.0766635e-04,  6.1297842e-04, -6.0028705e-04]], dtype=float32)"
                    },
                    "execution_count": 24,
                    "metadata": {},
                    "output_type": "execute_result"
                }
            ],
            "source": "session.run(tf.global_variables_initializer())\nsession.run(outputs[0], feed_dict)"
        },
        {
            "cell_type": "markdown",
            "metadata": {
                "button": false,
                "new_sheet": false,
                "run_control": {
                    "read_only": false
                }
            },
            "source": "we need to flatten the outputs to be able to connect it softmax layer. Lets reshape the output tensor from  [30 x 20 x 200] to [600 x 200].\n\n<b>Notice:</b> Imagine our output is 3-d tensor as following (of course each <code>sen_x_word_y</code> is a an embedded vector by itself): \n<ul>\n    <li>sentence 1: [[sen1word1], [sen1word2], [sen1word3], ..., [sen1word20]]</li> \n    <li>sentence 2: [[sen2word1], [sen2word2], [sen2word3], ..., [sen2word20]]</li>   \n    <li>sentence 3: [[sen3word1], [sen3word2], [sen3word3], ..., [sen3word20]]</li>  \n    <li>...  </li>\n    <li>sentence 30: [[sen30word1], [sen30word2], [sen30word3], ..., [sen30word20]]</li>   \n</ul>\nNow, the flatten would convert this 3-dim tensor to:\n\n[ [sen1word1], [sen1word2], [sen1word3], ..., [sen1word20],[sen2word1], [sen2word2], [sen2word3], ..., [sen2word20], ..., [sen30word20] ]\n"
        },
        {
            "cell_type": "code",
            "execution_count": 25,
            "metadata": {
                "button": false,
                "new_sheet": false,
                "run_control": {
                    "read_only": false
                }
            },
            "outputs": [
                {
                    "data": {
                        "text/plain": "<tf.Tensor 'Reshape:0' shape=(1200, 128) dtype=float32>"
                    },
                    "execution_count": 25,
                    "metadata": {},
                    "output_type": "execute_result"
                }
            ],
            "source": "output = tf.reshape(outputs, [-1, hidden_size_l2])\noutput"
        },
        {
            "cell_type": "markdown",
            "metadata": {
                "button": false,
                "new_sheet": false,
                "run_control": {
                    "read_only": false
                }
            },
            "source": "<h3>logistic unit</h3>\nNow, we create a logistic unit to return the probability of the output word in our vocabulary with 1000 words. \n\n$$Softmax = [600 \\times 200] * [200 \\times 1000] + [1 \\times 1000] \\Longrightarrow [600 \\times 1000]$$"
        },
        {
            "cell_type": "code",
            "execution_count": 26,
            "metadata": {
                "button": false,
                "new_sheet": false,
                "run_control": {
                    "read_only": false
                }
            },
            "outputs": [],
            "source": "softmax_w = tf.get_variable(\"softmax_w\", [hidden_size_l2, vocab_size]) #[200x1000]\nsoftmax_b = tf.get_variable(\"softmax_b\", [vocab_size]) #[1x1000]\nlogits = tf.matmul(output, softmax_w) + softmax_b\nprob = tf.nn.softmax(logits)"
        },
        {
            "cell_type": "markdown",
            "metadata": {},
            "source": "Lets look at the probability of observing words for t=0 to t=20:"
        },
        {
            "cell_type": "code",
            "execution_count": 27,
            "metadata": {
                "button": false,
                "new_sheet": false,
                "run_control": {
                    "read_only": false
                }
            },
            "outputs": [
                {
                    "name": "stdout",
                    "output_type": "stream",
                    "text": "shape of the output:  (1200, 10000)\nThe probability of observing words in t=0 to t=20 [[9.84533835e-05 1.01164740e-04 9.88912288e-05 ... 1.00651698e-04\n  1.00208279e-04 9.84897051e-05]\n [9.84485741e-05 1.01160513e-04 9.88870597e-05 ... 1.00645084e-04\n  1.00209545e-04 9.84935396e-05]\n [9.84443031e-05 1.01161299e-04 9.88938336e-05 ... 1.00641788e-04\n  1.00203470e-04 9.84938088e-05]\n ...\n [9.84650906e-05 1.01165599e-04 9.88856627e-05 ... 1.00662452e-04\n  1.00183068e-04 9.84916551e-05]\n [9.84666694e-05 1.01170859e-04 9.88900138e-05 ... 1.00668731e-04\n  1.00190045e-04 9.84870712e-05]\n [9.84585422e-05 1.01165359e-04 9.88979955e-05 ... 1.00667501e-04\n  1.00194753e-04 9.84731596e-05]]\n"
                }
            ],
            "source": "session.run(tf.global_variables_initializer())\noutput_words_prob = session.run(prob, feed_dict)\nprint(\"shape of the output: \", output_words_prob.shape)\nprint(\"The probability of observing words in t=0 to t=20\", output_words_prob[0:20])"
        },
        {
            "cell_type": "markdown",
            "metadata": {
                "button": false,
                "new_sheet": false,
                "run_control": {
                    "read_only": false
                }
            },
            "source": "<h3>Prediction</h3>\nWhat is the word correspond to the probability output? Lets use the maximum probability:"
        },
        {
            "cell_type": "code",
            "execution_count": 28,
            "metadata": {
                "button": false,
                "new_sheet": false,
                "run_control": {
                    "read_only": false
                }
            },
            "outputs": [
                {
                    "data": {
                        "text/plain": "array([5760, 4318, 4318, 5760, 4657, 3545, 1737, 1737, 3724, 3724, 9657,\n       3724, 4283, 4283, 3724, 6889, 9657, 9657, 9096, 4283])"
                    },
                    "execution_count": 28,
                    "metadata": {},
                    "output_type": "execute_result"
                }
            ],
            "source": "np.argmax(output_words_prob[0:20], axis=1)"
        },
        {
            "cell_type": "markdown",
            "metadata": {
                "button": false,
                "new_sheet": false,
                "run_control": {
                    "read_only": false
                }
            },
            "source": "So, what is the ground truth for the first word of first sentence? "
        },
        {
            "cell_type": "code",
            "execution_count": 29,
            "metadata": {
                "button": false,
                "new_sheet": false,
                "run_control": {
                    "read_only": false
                }
            },
            "outputs": [
                {
                    "data": {
                        "text/plain": "array([9971, 9972, 9974, 9975, 9976, 9980, 9981, 9982, 9983, 9984, 9986,\n       9987, 9988, 9989, 9991, 9992, 9993, 9994, 9995, 9996], dtype=int32)"
                    },
                    "execution_count": 29,
                    "metadata": {},
                    "output_type": "execute_result"
                }
            ],
            "source": "y[0]"
        },
        {
            "cell_type": "markdown",
            "metadata": {
                "button": false,
                "new_sheet": false,
                "run_control": {
                    "read_only": false
                }
            },
            "source": "Also, you can get it from target tensor, if you want to find the embedding vector:"
        },
        {
            "cell_type": "code",
            "execution_count": 30,
            "metadata": {
                "button": false,
                "new_sheet": false,
                "run_control": {
                    "read_only": false
                }
            },
            "outputs": [
                {
                    "data": {
                        "text/plain": "array([9971, 9972, 9974, 9975, 9976, 9980, 9981, 9982, 9983, 9984, 9986,\n       9987, 9988, 9989, 9991, 9992, 9993, 9994, 9995, 9996], dtype=int32)"
                    },
                    "execution_count": 30,
                    "metadata": {},
                    "output_type": "execute_result"
                }
            ],
            "source": "targ = session.run(_targets, feed_dict) \ntarg[0]"
        },
        {
            "cell_type": "markdown",
            "metadata": {},
            "source": "How similar the predicted words are to the target words?"
        },
        {
            "cell_type": "markdown",
            "metadata": {
                "button": false,
                "new_sheet": false,
                "run_control": {
                    "read_only": false
                }
            },
            "source": "<h4>Objective function</h4>\n\nNow we have to define our objective function, to calculate the similarity of predicted values to ground truth, and then, penalize the model with the error. Our objective is to minimize loss function, that is, to minimize the average negative log probability of the target words:\n\n$$\\text{loss} = -\\frac{1}{N}\\sum_{i=1}^{N} \\ln p_{\\text{target}_i}$$\n\nThis function is already implemented and available in TensorFlow through <b>sequence_loss_by_example</b>. It calculates the weighted cross-entropy loss for <b>logits</b> and the <b>target</b> sequence.  \n\nThe arguments of this function are:  \n<ul>\n    <li>logits: List of 2D Tensors of shape [batch_size x num_decoder_symbols].</li>  \n    <li>targets: List of 1D batch-sized int32 Tensors of the same length as logits.</li>   \n    <li>weights: List of 1D batch-sized float-Tensors of the same length as logits.</li> \n</ul>"
        },
        {
            "cell_type": "code",
            "execution_count": 31,
            "metadata": {
                "button": false,
                "new_sheet": false,
                "run_control": {
                    "read_only": false
                }
            },
            "outputs": [],
            "source": "loss = tf.contrib.legacy_seq2seq.sequence_loss_by_example([logits], [tf.reshape(_targets, [-1])],[tf.ones([batch_size * num_steps])])"
        },
        {
            "cell_type": "markdown",
            "metadata": {
                "button": false,
                "new_sheet": false,
                "run_control": {
                    "read_only": false
                }
            },
            "source": "loss is a 1D batch-sized float Tensor [600x1]: The log-perplexity for each sequence. Lets look at the first 10 values of loss:"
        },
        {
            "cell_type": "code",
            "execution_count": 32,
            "metadata": {
                "button": false,
                "new_sheet": false,
                "run_control": {
                    "read_only": false
                }
            },
            "outputs": [
                {
                    "data": {
                        "text/plain": "array([9.201581, 9.19482 , 9.207542, 9.226118, 9.209692, 9.212166,\n       9.202179, 9.2064  , 9.219564, 9.221987], dtype=float32)"
                    },
                    "execution_count": 32,
                    "metadata": {},
                    "output_type": "execute_result"
                }
            ],
            "source": "session.run(loss, feed_dict)[:10]"
        },
        {
            "cell_type": "markdown",
            "metadata": {},
            "source": "Now, we define loss as average of the losses:"
        },
        {
            "cell_type": "code",
            "execution_count": 33,
            "metadata": {
                "button": false,
                "new_sheet": false,
                "run_control": {
                    "read_only": false
                }
            },
            "outputs": [
                {
                    "data": {
                        "text/plain": "184.21556"
                    },
                    "execution_count": 33,
                    "metadata": {},
                    "output_type": "execute_result"
                }
            ],
            "source": "cost = tf.reduce_sum(loss) / batch_size\nsession.run(tf.global_variables_initializer())\nsession.run(cost, feed_dict)\n"
        },
        {
            "cell_type": "markdown",
            "metadata": {
                "button": false,
                "new_sheet": false,
                "run_control": {
                    "read_only": false
                }
            },
            "source": "<h3>Training</h3>\n\nTo do training for our network, we have to take the following steps:\n<ol>\n    <li>Define the optimizer.</li>\n    <li>Extract variables that are trainable.</li>\n    <li>Calculate the gradients based on the loss function.</li>\n    <li>Apply the optimizer to the variables/gradients tuple.</li>\n</ol>"
        },
        {
            "cell_type": "markdown",
            "metadata": {
                "button": false,
                "new_sheet": false,
                "run_control": {
                    "read_only": false
                }
            },
            "source": "<h4>1. Define Optimizer</h4>\n\n<b>GradientDescentOptimizer</b> constructs a new gradient descent optimizer. Later, we use constructed <b>optimizer</b> to compute gradients for a loss and apply gradients to variables."
        },
        {
            "cell_type": "code",
            "execution_count": 34,
            "metadata": {
                "button": false,
                "new_sheet": false,
                "run_control": {
                    "read_only": false
                }
            },
            "outputs": [],
            "source": "# Create a variable for the learning rate\nlr = tf.Variable(0.0, trainable=False)\n# Create the gradient descent optimizer with our learning rate\noptimizer = tf.train.GradientDescentOptimizer(lr)"
        },
        {
            "cell_type": "markdown",
            "metadata": {
                "button": false,
                "new_sheet": false,
                "run_control": {
                    "read_only": false
                }
            },
            "source": "\n<h4>2. Trainable Variables</h4>"
        },
        {
            "cell_type": "markdown",
            "metadata": {
                "button": false,
                "new_sheet": false,
                "run_control": {
                    "read_only": false
                }
            },
            "source": "Defining a variable, if you passed <i>trainable=True</i>, the variable constructor automatically adds new variables to the graph collection <b>GraphKeys.TRAINABLE_VARIABLES</b>. Now, using <i>tf.trainable_variables()</i> you can get all variables created with <b>trainable=True</b>."
        },
        {
            "cell_type": "code",
            "execution_count": 35,
            "metadata": {
                "button": false,
                "new_sheet": false,
                "run_control": {
                    "read_only": false
                }
            },
            "outputs": [
                {
                    "data": {
                        "text/plain": "[<tf.Variable 'embedding_vocab:0' shape=(10000, 200) dtype=float32_ref>,\n <tf.Variable 'rnn/multi_rnn_cell/cell_0/basic_lstm_cell/kernel:0' shape=(456, 1024) dtype=float32_ref>,\n <tf.Variable 'rnn/multi_rnn_cell/cell_0/basic_lstm_cell/bias:0' shape=(1024,) dtype=float32_ref>,\n <tf.Variable 'rnn/multi_rnn_cell/cell_1/basic_lstm_cell/kernel:0' shape=(384, 512) dtype=float32_ref>,\n <tf.Variable 'rnn/multi_rnn_cell/cell_1/basic_lstm_cell/bias:0' shape=(512,) dtype=float32_ref>,\n <tf.Variable 'softmax_w:0' shape=(128, 10000) dtype=float32_ref>,\n <tf.Variable 'softmax_b:0' shape=(10000,) dtype=float32_ref>]"
                    },
                    "execution_count": 35,
                    "metadata": {},
                    "output_type": "execute_result"
                }
            ],
            "source": "# Get all TensorFlow variables marked as \"trainable\" (i.e. all of them except _lr, which we just created)\ntvars = tf.trainable_variables()\ntvars"
        },
        {
            "cell_type": "markdown",
            "metadata": {
                "button": false,
                "new_sheet": false,
                "run_control": {
                    "read_only": false
                }
            },
            "source": "Note: we can find the name and scope of all variables:"
        },
        {
            "cell_type": "code",
            "execution_count": 36,
            "metadata": {
                "button": false,
                "new_sheet": false,
                "run_control": {
                    "read_only": false
                }
            },
            "outputs": [
                {
                    "data": {
                        "text/plain": "['embedding_vocab:0',\n 'rnn/multi_rnn_cell/cell_0/basic_lstm_cell/kernel:0',\n 'rnn/multi_rnn_cell/cell_0/basic_lstm_cell/bias:0',\n 'rnn/multi_rnn_cell/cell_1/basic_lstm_cell/kernel:0',\n 'rnn/multi_rnn_cell/cell_1/basic_lstm_cell/bias:0',\n 'softmax_w:0',\n 'softmax_b:0']"
                    },
                    "execution_count": 36,
                    "metadata": {},
                    "output_type": "execute_result"
                }
            ],
            "source": "[v.name for v in tvars]"
        },
        {
            "cell_type": "markdown",
            "metadata": {
                "button": false,
                "new_sheet": false,
                "run_control": {
                    "read_only": false
                }
            },
            "source": "<h4>3. Calculate the gradients based on the loss function</h4>"
        },
        {
            "cell_type": "markdown",
            "metadata": {
                "button": false,
                "new_sheet": false,
                "run_control": {
                    "read_only": false
                }
            },
            "source": "<h4>Gradient</h4>:\nThe gradient of a function is the slope of its derivative (line), or in other words, the rate of change of a function. It's a vector (a direction to move) that points in the direction of greatest increase of the function, and calculated by the <b>derivative</b> operation.\n\nFirst lets recall the gradient function using an toy example:\n$$ z = \\left(2x^2 + 3xy\\right)$$"
        },
        {
            "cell_type": "code",
            "execution_count": 37,
            "metadata": {
                "button": false,
                "new_sheet": false,
                "run_control": {
                    "read_only": false
                }
            },
            "outputs": [
                {
                    "data": {
                        "text/plain": "8.0"
                    },
                    "execution_count": 37,
                    "metadata": {},
                    "output_type": "execute_result"
                }
            ],
            "source": "var_x = tf.placeholder(tf.float32)\nvar_y = tf.placeholder(tf.float32) \nfunc_test = 2.0 * var_x * var_x + 3.0 * var_x * var_y\nsession.run(tf.global_variables_initializer())\nsession.run(func_test, {var_x:1.0,var_y:2.0})"
        },
        {
            "cell_type": "markdown",
            "metadata": {
                "button": false,
                "new_sheet": false,
                "run_control": {
                    "read_only": false
                }
            },
            "source": "The <b>tf.gradients()</b> function allows you to compute the symbolic gradient of one tensor with respect to one or more other tensors\u2014including variables. <b>tf.gradients(func, xs)</b> constructs symbolic partial derivatives of sum of <b>func</b> w.r.t. <i>x</i> in <b>xs</b>. \n\nNow, lets look at the derivitive w.r.t. <b>var_x</b>:\n$$ \\frac{\\partial \\:}{\\partial \\:x}\\left(2x^2 + 3xy\\right) = 4x + 3y $$\n"
        },
        {
            "cell_type": "code",
            "execution_count": 38,
            "metadata": {
                "button": false,
                "new_sheet": false,
                "run_control": {
                    "read_only": false
                }
            },
            "outputs": [
                {
                    "data": {
                        "text/plain": "[10.0]"
                    },
                    "execution_count": 38,
                    "metadata": {},
                    "output_type": "execute_result"
                }
            ],
            "source": "var_grad = tf.gradients(func_test, [var_x])\nsession.run(var_grad, {var_x:1.0,var_y:2.0})"
        },
        {
            "cell_type": "markdown",
            "metadata": {
                "button": false,
                "new_sheet": false,
                "run_control": {
                    "read_only": false
                }
            },
            "source": "the derivative w.r.t. <b>var_y</b>:\n$$ \\frac{\\partial \\:}{\\partial \\:x}\\left(2x^2 + 3xy\\right) = 3x $$"
        },
        {
            "cell_type": "code",
            "execution_count": 39,
            "metadata": {
                "button": false,
                "new_sheet": false,
                "run_control": {
                    "read_only": false
                }
            },
            "outputs": [
                {
                    "data": {
                        "text/plain": "[3.0]"
                    },
                    "execution_count": 39,
                    "metadata": {},
                    "output_type": "execute_result"
                }
            ],
            "source": "var_grad = tf.gradients(func_test, [var_y])\nsession.run(var_grad, {var_x:1.0, var_y:2.0})"
        },
        {
            "cell_type": "markdown",
            "metadata": {
                "button": false,
                "new_sheet": false,
                "run_control": {
                    "read_only": false
                }
            },
            "source": "Now, we can look at gradients w.r.t all variables:"
        },
        {
            "cell_type": "code",
            "execution_count": 40,
            "metadata": {
                "button": false,
                "new_sheet": false,
                "run_control": {
                    "read_only": false
                }
            },
            "outputs": [
                {
                    "name": "stdout",
                    "output_type": "stream",
                    "text": "WARNING:tensorflow:From /opt/conda/envs/Python36/lib/python3.6/site-packages/tensorflow/python/ops/array_grad.py:425: to_int32 (from tensorflow.python.ops.math_ops) is deprecated and will be removed in a future version.\nInstructions for updating:\nUse tf.cast instead.\n"
                },
                {
                    "data": {
                        "text/plain": "[<tensorflow.python.framework.ops.IndexedSlices at 0x7feac4683080>,\n <tf.Tensor 'gradients_2/rnn/while/rnn/multi_rnn_cell/cell_0/basic_lstm_cell/MatMul/Enter_grad/b_acc_3:0' shape=(456, 1024) dtype=float32>,\n <tf.Tensor 'gradients_2/rnn/while/rnn/multi_rnn_cell/cell_0/basic_lstm_cell/BiasAdd/Enter_grad/b_acc_3:0' shape=(1024,) dtype=float32>,\n <tf.Tensor 'gradients_2/rnn/while/rnn/multi_rnn_cell/cell_1/basic_lstm_cell/MatMul/Enter_grad/b_acc_3:0' shape=(384, 512) dtype=float32>,\n <tf.Tensor 'gradients_2/rnn/while/rnn/multi_rnn_cell/cell_1/basic_lstm_cell/BiasAdd/Enter_grad/b_acc_3:0' shape=(512,) dtype=float32>,\n <tf.Tensor 'gradients_2/MatMul_grad/MatMul_1:0' shape=(128, 10000) dtype=float32>,\n <tf.Tensor 'gradients_2/add_grad/Reshape_1:0' shape=(10000,) dtype=float32>]"
                    },
                    "execution_count": 40,
                    "metadata": {},
                    "output_type": "execute_result"
                }
            ],
            "source": "tf.gradients(cost, tvars)"
        },
        {
            "cell_type": "code",
            "execution_count": 41,
            "metadata": {
                "button": false,
                "new_sheet": false,
                "run_control": {
                    "read_only": false
                },
                "scrolled": true
            },
            "outputs": [],
            "source": "grad_t_list = tf.gradients(cost, tvars)\n#sess.run(grad_t_list,feed_dict)"
        },
        {
            "cell_type": "markdown",
            "metadata": {
                "button": false,
                "new_sheet": false,
                "run_control": {
                    "read_only": false
                }
            },
            "source": "\n\n\nnow, we have a list of tensors, t-list. We can use it to find clipped tensors. <b>clip_by_global_norm</b> clips values of multiple tensors by the ratio of the sum of their norms.\n\n<b>clip_by_global_norm</b> get <i>t-list</i> as input and returns 2 things:\n<ul>\n    <li>a list of clipped tensors, so called <i>list_clipped</i></li> \n    <li>the global norm (global_norm) of all tensors in t_list</li> \n</ul>"
        },
        {
            "cell_type": "code",
            "execution_count": 42,
            "metadata": {
                "button": false,
                "new_sheet": false,
                "run_control": {
                    "read_only": false
                }
            },
            "outputs": [
                {
                    "data": {
                        "text/plain": "[<tensorflow.python.framework.ops.IndexedSlices at 0x7feac46a91d0>,\n <tf.Tensor 'clip_by_global_norm/clip_by_global_norm/_1:0' shape=(456, 1024) dtype=float32>,\n <tf.Tensor 'clip_by_global_norm/clip_by_global_norm/_2:0' shape=(1024,) dtype=float32>,\n <tf.Tensor 'clip_by_global_norm/clip_by_global_norm/_3:0' shape=(384, 512) dtype=float32>,\n <tf.Tensor 'clip_by_global_norm/clip_by_global_norm/_4:0' shape=(512,) dtype=float32>,\n <tf.Tensor 'clip_by_global_norm/clip_by_global_norm/_5:0' shape=(128, 10000) dtype=float32>,\n <tf.Tensor 'clip_by_global_norm/clip_by_global_norm/_6:0' shape=(10000,) dtype=float32>]"
                    },
                    "execution_count": 42,
                    "metadata": {},
                    "output_type": "execute_result"
                }
            ],
            "source": "# Define the gradient clipping threshold\ngrads, _ = tf.clip_by_global_norm(grad_t_list, max_grad_norm)\ngrads"
        },
        {
            "cell_type": "code",
            "execution_count": 43,
            "metadata": {
                "button": false,
                "new_sheet": false,
                "run_control": {
                    "read_only": false
                }
            },
            "outputs": [
                {
                    "data": {
                        "text/plain": "[IndexedSlicesValue(values=array([[ 1.81282503e-05, -9.26051234e-06, -3.50303424e-07, ...,\n         -8.05612035e-06,  4.71677185e-06,  9.14066641e-06],\n        [ 1.21943540e-05, -1.12933312e-05, -1.41172404e-06, ...,\n         -1.48200215e-05,  8.03182229e-06,  7.90705741e-08],\n        [ 7.09666938e-06, -7.00609598e-06,  1.18386033e-07, ...,\n         -1.71663978e-05,  8.68971256e-06, -8.83631401e-06],\n        ...,\n        [-1.11419798e-08,  1.01099740e-05, -8.40572557e-06, ...,\n          2.77465870e-06,  2.70204077e-06, -5.07954292e-06],\n        [ 1.92895527e-06,  7.50212507e-07, -2.29165539e-06, ...,\n          4.41983912e-06,  4.92956724e-06, -3.23667746e-06],\n        [ 2.30207570e-06, -5.24159213e-06,  1.87084117e-06, ...,\n          5.21397214e-06,  4.52154563e-06,  3.66819040e-06]], dtype=float32), indices=array([9970, 9971, 9972, ..., 2043,   23,    1], dtype=int32), dense_shape=array([10000,   200], dtype=int32)),\n array([[-4.22761737e-08,  2.36988340e-09, -9.13518594e-09, ...,\n         -3.85239964e-08, -9.51600843e-09, -6.95374869e-11],\n        [-2.13308660e-08, -3.93383388e-08, -4.42142287e-08, ...,\n         -2.44544225e-08, -3.09013863e-08, -1.54274260e-10],\n        [ 2.31839472e-08, -1.00985185e-08, -4.40915926e-09, ...,\n          7.46843742e-09, -7.71031949e-08,  1.89841405e-08],\n        ...,\n        [-2.12863016e-09,  1.19510357e-09,  6.78278811e-09, ...,\n         -7.31454275e-09, -4.92736163e-09, -1.24924726e-09],\n        [-2.94918479e-10,  6.88131818e-09, -2.88816526e-09, ...,\n          1.05925518e-10,  4.62847494e-09,  6.04405681e-09],\n        [-4.56393234e-09,  4.75664352e-09, -6.39698872e-09, ...,\n         -1.74933534e-09,  2.80938184e-09,  1.19514407e-08]], dtype=float32),\n array([ 4.0239487e-07, -1.2694834e-06, -1.0860392e-06, ...,\n         4.3575159e-07,  2.8841837e-06,  2.8609475e-06], dtype=float32),\n array([[ 1.3409607e-09, -1.2048922e-08,  5.8391789e-09, ...,\n          4.0186356e-09,  2.7887448e-09,  6.4395849e-09],\n        [-6.0596261e-09, -1.2592986e-09,  5.4616178e-09, ...,\n          8.7437285e-10, -2.2577864e-09, -1.1225788e-08],\n        [-3.2925074e-09, -3.9744971e-10,  8.0496179e-09, ...,\n         -7.3346409e-09, -7.6984588e-09, -9.0610830e-10],\n        ...,\n        [-3.8344852e-09,  3.6865073e-09, -7.1843936e-10, ...,\n          3.6812793e-09, -4.8149978e-10, -3.2109507e-10],\n        [-6.5019504e-11,  1.3514482e-09, -1.3513588e-09, ...,\n         -2.8006300e-09,  3.1023710e-09, -2.8926861e-10],\n        [-1.6691092e-09,  1.7634971e-09, -2.7290395e-10, ...,\n         -1.9106976e-09, -1.5297520e-09, -7.5625384e-10]], dtype=float32),\n array([ 6.66661344e-06, -1.45260373e-07, -4.17216256e-07, -2.97871134e-06,\n         9.66839707e-07,  5.19769401e-07,  1.56541637e-06, -6.14439614e-07,\n        -3.84772051e-07,  5.20262574e-07, -1.06443667e-06,  9.67467145e-07,\n        -2.43169076e-08,  6.91003947e-07, -8.79081938e-07,  4.50109928e-06,\n        -1.27814474e-06,  2.16846729e-06, -1.06127368e-06,  2.50715129e-06,\n        -6.08493565e-06, -1.53746828e-06, -1.43488523e-06,  3.16864288e-07,\n         2.37142740e-06,  2.90372077e-06,  3.39313175e-07,  2.12770078e-06,\n        -4.31641729e-06,  6.69474559e-07,  8.58706173e-08, -5.63023332e-06,\n         6.55245094e-06, -3.69701775e-06,  2.31066474e-06,  7.91645743e-06,\n         3.29127442e-06,  9.94972993e-07,  2.35657922e-06, -3.03243064e-06,\n         2.29909290e-07,  1.71935096e-06,  1.91293407e-06, -3.73474222e-06,\n        -5.85183045e-07,  7.15410863e-07,  2.35567700e-06, -2.30907654e-06,\n         5.01923410e-07, -8.99373049e-07, -4.42020610e-06,  3.20594199e-06,\n         2.74069794e-06, -4.29318561e-06,  6.53064444e-06, -3.51186327e-06,\n        -2.27868668e-06,  4.30636106e-07,  6.65413609e-06, -2.60560910e-07,\n        -9.75397052e-06, -4.74391072e-07, -9.13221629e-06, -1.19174933e-06,\n        -2.23218581e-06, -6.54683845e-07,  1.42489262e-06, -2.98950704e-06,\n         4.69440749e-07, -1.56041665e-06,  4.51210190e-06, -2.72925990e-06,\n         3.33420508e-06,  9.77975176e-08,  2.57588567e-06,  3.97506199e-07,\n        -2.84704811e-06,  6.84229644e-06,  1.35478814e-07, -2.37220047e-06,\n         1.18420235e-06, -1.19935135e-06, -3.66810036e-06,  4.86383806e-06,\n        -6.23606456e-06,  1.60721413e-06, -5.31594651e-06,  1.74036063e-06,\n         5.29914814e-07,  8.47490924e-07,  2.19605795e-06, -1.25625547e-07,\n        -1.53486621e-06,  2.31036680e-07, -4.00836461e-06, -1.16232775e-06,\n        -7.12831991e-07,  3.12827228e-06,  1.48910021e-06, -4.54846713e-06,\n        -1.91594313e-06, -7.91916250e-07, -8.22517165e-07,  7.60427440e-07,\n         3.12777092e-06,  3.79956737e-06,  2.56949875e-06, -1.36126346e-06,\n        -2.22872791e-06, -4.60602109e-07, -3.58613164e-07, -6.31058015e-08,\n         6.47838135e-07, -9.12258145e-07,  1.39160170e-06, -4.36004484e-06,\n         3.96778478e-06,  6.19155912e-07,  8.37516018e-06,  1.10088934e-06,\n         3.88674380e-06, -9.55197038e-07,  1.42687156e-07,  1.06095558e-06,\n         2.40946906e-06,  3.14470299e-06, -3.04270134e-06, -1.48194226e-06,\n         6.83589978e-03, -2.10975856e-03, -1.74142467e-03, -3.40987532e-03,\n         2.63012829e-04, -8.93044658e-03,  9.74955875e-03,  1.35591272e-02,\n         2.72406563e-02, -9.96791758e-04,  1.00318110e-02, -1.10600265e-02,\n         3.20346188e-03,  2.03746464e-02, -8.43213592e-03,  2.14445200e-02,\n         1.43521288e-02, -5.43547655e-03, -1.44233918e-02, -1.53046474e-02,\n         2.61303578e-02, -3.08167608e-03,  5.59340417e-03, -1.46995310e-03,\n         1.28122661e-02,  5.17075590e-04, -1.76555831e-02, -9.82154347e-03,\n         1.96519494e-02,  2.91235391e-02,  6.89937384e-04, -2.68358681e-02,\n        -2.12956183e-02,  8.77786987e-03, -1.16415992e-02, -1.35744102e-02,\n        -6.67401124e-03, -4.32783458e-03,  5.10099065e-03,  1.40557280e-02,\n         1.88057385e-02, -2.14869389e-03,  1.25910863e-02, -2.58267298e-03,\n         2.00177990e-02,  4.13705409e-03,  7.32586859e-03,  3.98069434e-03,\n        -1.08918119e-02,  5.64333610e-03,  3.22281793e-02, -3.13603878e-02,\n         8.21748190e-03,  2.82493839e-03,  1.12794563e-02, -1.74623472e-03,\n        -5.74785657e-03,  4.60110093e-03, -4.87266993e-03, -3.94484587e-03,\n        -4.38392237e-02, -1.91834141e-02,  1.28248949e-02,  1.04356008e-02,\n        -3.02174757e-03, -2.21394319e-02, -9.91583243e-03,  6.12080563e-03,\n         2.61264630e-02, -1.53954104e-02,  1.19720427e-02, -1.36054223e-02,\n         3.67362448e-03,  2.48624058e-03,  6.93566166e-03, -2.44975369e-02,\n         1.24942120e-02,  2.55824663e-02, -1.50622558e-02,  9.01950174e-04,\n        -1.55397202e-03,  9.77972429e-03, -9.80083272e-03, -1.92598496e-02,\n         3.56695876e-02, -5.85806230e-03, -1.41351316e-02, -1.44811580e-02,\n        -7.55192945e-03, -1.04347114e-02, -2.16039736e-02, -2.76831128e-02,\n         1.04300408e-02,  6.93939021e-03, -1.94766093e-02, -1.02629804e-03,\n        -7.22670369e-03,  2.34180642e-03, -7.60547630e-03,  8.27018544e-03,\n        -4.32279147e-03, -6.20718021e-03, -1.79832277e-03,  1.20886797e-02,\n         1.67392299e-03,  1.67996772e-02,  8.13234365e-04, -1.72396973e-02,\n         1.53628225e-02, -1.25938542e-02, -6.63680630e-03,  3.50659783e-03,\n         2.73556300e-02,  2.10247021e-02,  2.24133357e-02, -6.01417711e-03,\n        -3.21672410e-02, -1.17444349e-02,  3.57619161e-03,  1.10359453e-02,\n        -1.93325207e-02,  1.00310119e-02,  5.72491251e-03,  2.60177325e-03,\n        -9.89183038e-03, -8.68221687e-05,  6.86475169e-03,  5.02393767e-03,\n         2.65722065e-06,  1.38557346e-06, -7.75169440e-07, -7.98534245e-07,\n         1.07575011e-06,  3.71945390e-07,  1.91436243e-06, -5.07154084e-07,\n        -1.18670437e-06,  1.88605270e-06, -3.03168986e-06,  8.28593045e-07,\n        -1.91690128e-06,  3.24020948e-06, -2.46400577e-06,  4.14979331e-06,\n         1.13286103e-06,  2.64312985e-06, -1.08807853e-06,  2.19309891e-06,\n        -4.71687872e-06, -8.89513387e-07, -1.61125001e-06,  1.59319825e-06,\n         6.59039188e-07, -6.07090897e-07,  1.40691895e-06,  3.40095880e-06,\n        -2.33697870e-06, -1.52478151e-06, -7.72201787e-08, -5.03922411e-06,\n         4.06590061e-06, -4.31061744e-06,  1.35233006e-06,  5.10633618e-06,\n         3.04976243e-06, -1.14580666e-06,  2.69118686e-07, -4.69267491e-07,\n         5.26467261e-07,  2.13758926e-06,  4.60749050e-07, -3.55024849e-06,\n         9.88784222e-07, -3.51870227e-07,  3.24615200e-07, -1.98916041e-06,\n         1.43627290e-06,  1.45703427e-06, -1.55680971e-06,  4.51249844e-06,\n        -2.36063306e-06, -2.20428410e-06,  2.29687316e-06, -3.65737992e-06,\n         9.49683283e-08, -1.18329990e-06,  4.64807545e-06, -1.65642564e-06,\n        -9.63932325e-06, -1.96965789e-06, -7.04234662e-06, -1.17488059e-06,\n        -3.42076163e-08, -8.24743552e-07,  1.09231826e-06, -2.28793601e-06,\n         2.78017455e-06, -1.39829535e-06,  6.55207077e-06, -8.58518320e-07,\n         1.16415697e-06,  1.62929450e-06,  8.24829840e-07, -3.03331171e-06,\n        -2.51575966e-06,  7.07497247e-06, -2.32275693e-06, -1.44080616e-07,\n         1.22025722e-06,  7.35472440e-07, -7.71840860e-07,  3.97070653e-06,\n        -5.91823118e-06,  8.87624083e-07, -1.73656838e-06,  2.01295393e-06,\n         6.02069804e-07,  3.37059805e-06, -1.23376617e-06, -7.83946348e-07,\n        -1.17876391e-06,  4.41158932e-07, -9.38168910e-07, -1.56975739e-06,\n         1.85461545e-06,  3.66443328e-06, -4.02612613e-07,  1.56341088e-07,\n        -2.53309258e-06,  1.35284199e-06,  8.73380998e-07, -1.86466551e-07,\n         1.89425270e-06,  6.06841149e-06,  4.62643783e-07, -3.15403508e-06,\n        -7.66039179e-08, -1.09461169e-07, -7.40280825e-07, -9.62682407e-07,\n        -1.56188463e-07,  2.72810939e-06,  2.32378079e-06, -2.35187508e-06,\n         2.71907311e-06, -1.25669317e-06,  2.81128268e-06,  4.41199745e-06,\n         8.56997758e-06, -6.89586059e-08,  1.37603035e-06,  1.65405004e-06,\n         1.76760477e-06,  4.89171998e-06, -5.94311302e-08, -1.33761478e-06,\n         6.66604456e-06, -1.49426086e-07, -4.14350723e-07, -2.97660449e-06,\n         9.65552772e-07,  5.21316736e-07,  1.56624742e-06, -6.11343864e-07,\n        -3.79569514e-07,  5.22292339e-07, -1.06330265e-06,  9.69706321e-07,\n        -2.50956731e-08,  6.92146102e-07, -8.78346327e-07,  4.49926756e-06,\n        -1.27744090e-06,  2.16448825e-06, -1.04988408e-06,  2.51006281e-06,\n        -6.08890559e-06, -1.53876101e-06, -1.43636726e-06,  3.19204901e-07,\n         2.37100562e-06,  2.90616731e-06,  3.37043105e-07,  2.12272585e-06,\n        -4.31149101e-06,  6.71095961e-07,  7.91765373e-08, -5.62519745e-06,\n         6.56039265e-06, -3.69767895e-06,  2.30899468e-06,  7.91519687e-06,\n         3.28905435e-06,  9.93823051e-07,  2.35714242e-06, -3.02516401e-06,\n         2.28826792e-07,  1.72148270e-06,  1.91136860e-06, -3.73730791e-06,\n        -5.84455904e-07,  7.16105149e-07,  2.35447442e-06, -2.30626733e-06,\n         5.02109799e-07, -8.96693734e-07, -4.42158489e-06,  3.20336949e-06,\n         2.73908245e-06, -4.29133888e-06,  6.53281495e-06, -3.51009476e-06,\n        -2.27873170e-06,  4.28590965e-07,  6.64436493e-06, -2.63550049e-07,\n        -9.75472267e-06, -4.82123369e-07, -9.13444819e-06, -1.18820844e-06,\n        -2.23163875e-06, -6.54165376e-07,  1.42860324e-06, -2.98582768e-06,\n         4.68865323e-07, -1.55874864e-06,  4.51304868e-06, -2.73111391e-06,\n         3.33365165e-06,  9.62826334e-08,  2.57547367e-06,  3.98840598e-07,\n        -2.84520684e-06,  6.83179223e-06,  1.34449635e-07, -2.36896790e-06,\n         1.18249852e-06, -1.19905985e-06, -3.66963332e-06,  4.86220551e-06,\n        -6.23914730e-06,  1.60368540e-06, -5.31456726e-06,  1.73861645e-06,\n         5.31279852e-07,  8.49000685e-07,  2.19805520e-06, -1.30514934e-07,\n        -1.53241649e-06,  2.25977871e-07, -4.00872341e-06, -1.15729517e-06,\n        -7.14900523e-07,  3.13162241e-06,  1.48923402e-06, -4.55065810e-06,\n        -1.91070330e-06, -7.90792683e-07, -8.18338776e-07,  7.60396006e-07,\n         3.12671614e-06,  3.80357915e-06,  2.55807367e-06, -1.36153983e-06,\n        -2.22905078e-06, -4.58847978e-07, -3.60130826e-07, -6.43626663e-08,\n         6.48908667e-07, -9.14722989e-07,  1.38205769e-06, -4.36717892e-06,\n         3.96901032e-06,  6.21683171e-07,  8.37111293e-06,  1.10478447e-06,\n         3.89127490e-06, -9.51825712e-07,  1.47497090e-07,  1.05767754e-06,\n         2.40846930e-06,  3.14463409e-06, -3.03997649e-06, -1.48325398e-06],\n       dtype=float32),\n array([[ 2.09072721e-04, -6.69630681e-05, -5.37589804e-05, ...,\n         -1.67831146e-07, -1.68447514e-07, -1.65943618e-07],\n        [-2.03773830e-04, -2.95985112e-04, -2.35755680e-04, ...,\n          4.53607186e-07,  4.55272470e-07,  4.48514697e-07],\n        [ 9.73508431e-05,  1.17702744e-04,  8.17246982e-05, ...,\n         -1.34175551e-07, -1.34714199e-07, -1.32682189e-07],\n        ...,\n        [-5.72370081e-05, -3.00635184e-05,  1.58484370e-04, ...,\n         -3.84425967e-08, -3.85428081e-08, -3.79735319e-08],\n        [ 1.96917375e-04,  1.79292212e-04,  2.56147978e-05, ...,\n         -2.81173129e-07, -2.82181787e-07, -2.78007946e-07],\n        [ 1.16691095e-04,  1.84779303e-04, -1.87295791e-05, ...,\n         -1.52959558e-07, -1.53476535e-07, -1.51222508e-07]], dtype=float32),\n array([-0.78133124, -1.0979868 , -0.98132956, ...,  0.00199975,\n         0.00200715,  0.00197717], dtype=float32)]"
                    },
                    "execution_count": 43,
                    "metadata": {},
                    "output_type": "execute_result"
                }
            ],
            "source": "session.run(grads, feed_dict)"
        },
        {
            "cell_type": "markdown",
            "metadata": {
                "button": false,
                "new_sheet": false,
                "run_control": {
                    "read_only": false
                }
            },
            "source": "<h4>4. Apply the optimizer to the variables / gradients tuple.</h4>"
        },
        {
            "cell_type": "code",
            "execution_count": 44,
            "metadata": {
                "button": false,
                "new_sheet": false,
                "run_control": {
                    "read_only": false
                }
            },
            "outputs": [],
            "source": "# Create the training TensorFlow Operation through our optimizer\ntrain_op = optimizer.apply_gradients(zip(grads, tvars))"
        },
        {
            "cell_type": "code",
            "execution_count": 45,
            "metadata": {
                "button": false,
                "new_sheet": false,
                "run_control": {
                    "read_only": false
                }
            },
            "outputs": [],
            "source": "session.run(tf.global_variables_initializer())\nsession.run(train_op, feed_dict)"
        },
        {
            "cell_type": "markdown",
            "metadata": {},
            "source": "<a id=\"ltsm\"></a>\n<h2>LSTM</h2>"
        },
        {
            "cell_type": "markdown",
            "metadata": {
                "button": false,
                "new_sheet": false,
                "run_control": {
                    "read_only": false
                }
            },
            "source": "We learned how the model is build step by step. Noe, let's then create a Class that represents our model. This class needs a few things:\n<ul>\n    <li>We have to create the model in accordance with our defined hyperparameters</li>\n    <li>We have to create the placeholders for our input data and expected outputs (the real data)</li>\n    <li>We have to create the LSTM cell structure and connect them with our RNN structure</li>\n    <li>We have to create the word embeddings and point them to the input data</li>\n    <li>We have to create the input structure for our RNN</li>\n    <li>We have to instantiate our RNN model and retrieve the variable in which we should expect our outputs to appear</li>\n    <li>We need to create a logistic structure to return the probability of our words</li>\n    <li>We need to create the loss and cost functions for our optimizer to work, and then create the optimizer</li>\n    <li>And finally, we need to create a training operation that can be run to actually train our model</li>\n</ul>"
        },
        {
            "cell_type": "code",
            "execution_count": 46,
            "metadata": {},
            "outputs": [
                {
                    "data": {
                        "text/plain": "256"
                    },
                    "execution_count": 46,
                    "metadata": {},
                    "output_type": "execute_result"
                }
            ],
            "source": "hidden_size_l1"
        },
        {
            "cell_type": "code",
            "execution_count": 47,
            "metadata": {
                "button": false,
                "new_sheet": false,
                "run_control": {
                    "read_only": false
                }
            },
            "outputs": [],
            "source": "class PTBModel(object):\n\n    def __init__(self, action_type):\n        ######################################\n        # Setting parameters for ease of use #\n        ######################################\n        self.batch_size = batch_size\n        self.num_steps = num_steps\n        self.hidden_size_l1 = hidden_size_l1\n        self.hidden_size_l2 = hidden_size_l2\n        self.vocab_size = vocab_size\n        self.embeding_vector_size = embeding_vector_size\n        ###############################################################################\n        # Creating placeholders for our input data and expected outputs (target data) #\n        ###############################################################################\n        self._input_data = tf.placeholder(tf.int32, [batch_size, num_steps]) #[30#20]\n        self._targets = tf.placeholder(tf.int32, [batch_size, num_steps]) #[30#20]\n\n        ##########################################################################\n        # Creating the LSTM cell structure and connect it with the RNN structure #\n        ##########################################################################\n        # Create the LSTM unit. \n        # This creates only the structure for the LSTM and has to be associated with a RNN unit still.\n        # The argument n_hidden(size=200) of BasicLSTMCell is size of hidden layer, that is, the number of hidden units of the LSTM (inside A).\n        # Size is the same as the size of our hidden layer, and no bias is added to the Forget Gate. \n        # LSTM cell processes one word at a time and computes probabilities of the possible continuations of the sentence.\n        lstm_cell_l1 = tf.contrib.rnn.BasicLSTMCell(self.hidden_size_l1, forget_bias=0.0)\n        lstm_cell_l2 = tf.contrib.rnn.BasicLSTMCell(self.hidden_size_l2, forget_bias=0.0)\n        \n        # Unless you changed keep_prob, this won't actually execute -- this is a dropout wrapper for our LSTM unit\n        # This is an optimization of the LSTM output, but is not needed at all\n        if action_type == \"is_training\" and keep_prob < 1:\n            lstm_cell_l1 = tf.contrib.rnn.DropoutWrapper(lstm_cell_l1, output_keep_prob=keep_prob)\n            lstm_cell_l2 = tf.contrib.rnn.DropoutWrapper(lstm_cell_l2, output_keep_prob=keep_prob)\n        \n        # By taking in the LSTM cells as parameters, the MultiRNNCell function junctions the LSTM units to the RNN units.\n        # RNN cell composed sequentially of multiple simple cells.\n        stacked_lstm = tf.contrib.rnn.MultiRNNCell([lstm_cell_l1, lstm_cell_l2])\n\n        # Define the initial state, i.e., the model state for the very first data point\n        # It initialize the state of the LSTM memory. The memory state of the network is initialized with a vector of zeros and gets updated after reading each word.\n        self._initial_state = stacked_lstm.zero_state(batch_size, tf.float32)\n\n        ####################################################################\n        # Creating the word embeddings and pointing them to the input data #\n        ####################################################################\n        with tf.device(\"/cpu:0\"):\n            # Create the embeddings for our input data. Size is hidden size.\n            embedding = tf.get_variable(\"embedding\", [vocab_size, self.embeding_vector_size])  #[10000x200]\n            # Define where to get the data for our embeddings from\n            inputs = tf.nn.embedding_lookup(embedding, self._input_data)\n\n        # Unless you changed keep_prob, this won't actually execute -- this is a dropout addition for our inputs\n        # This is an optimization of the input processing and is not needed at all\n        if action_type == \"is_training\" and keep_prob < 1:\n            inputs = tf.nn.dropout(inputs, keep_prob)\n\n        ############################################\n        # Creating the input structure for our RNN #\n        ############################################\n        # Input structure is 20x[30x200]\n        # Considering each word is represended by a 200 dimentional vector, and we have 30 batchs, we create 30 word-vectors of size [30xx2000]\n        # inputs = [tf.squeeze(input_, [1]) for input_ in tf.split(1, num_steps, inputs)]\n        # The input structure is fed from the embeddings, which are filled in by the input data\n        # Feeding a batch of b sentences to a RNN:\n        # In step 1,  first word of each of the b sentences (in a batch) is input in parallel.  \n        # In step 2,  second word of each of the b sentences is input in parallel. \n        # The parallelism is only for efficiency.  \n        # Each sentence in a batch is handled in parallel, but the network sees one word of a sentence at a time and does the computations accordingly. \n        # All the computations involving the words of all sentences in a batch at a given time step are done in parallel. \n\n        ####################################################################################################\n        # Instantiating our RNN model and retrieving the structure for returning the outputs and the state #\n        ####################################################################################################\n        \n        outputs, state = tf.nn.dynamic_rnn(stacked_lstm, inputs, initial_state=self._initial_state)\n        #########################################################################\n        # Creating a logistic unit to return the probability of the output word #\n        #########################################################################\n        output = tf.reshape(outputs, [-1, self.hidden_size_l2])\n        softmax_w = tf.get_variable(\"softmax_w\", [self.hidden_size_l2, vocab_size]) #[200x1000]\n        softmax_b = tf.get_variable(\"softmax_b\", [vocab_size]) #[1x1000]\n        logits = tf.matmul(output, softmax_w) + softmax_b\n        logits = tf.reshape(logits, [self.batch_size, self.num_steps, vocab_size])\n        prob = tf.nn.softmax(logits)\n        out_words = tf.argmax(prob, axis=2)\n        self._output_words = out_words\n        #########################################################################\n        # Defining the loss and cost functions for the model's learning to work #\n        #########################################################################\n            \n\n        # Use the contrib sequence loss and average over the batches\n        loss = tf.contrib.seq2seq.sequence_loss(\n            logits,\n            self.targets,\n            tf.ones([batch_size, num_steps], dtype=tf.float32),\n            average_across_timesteps=False,\n            average_across_batch=True)\n    \n#         loss = tf.contrib.legacy_seq2seq.sequence_loss_by_example([logits], [tf.reshape(self._targets, [-1])],\n#                                                       [tf.ones([batch_size * num_steps])])\n        self._cost = tf.reduce_sum(loss)\n\n        # Store the final state\n        self._final_state = state\n\n        #Everything after this point is relevant only for training\n        if action_type != \"is_training\":\n            return\n\n        #################################################\n        # Creating the Training Operation for our Model #\n        #################################################\n        # Create a variable for the learning rate\n        self._lr = tf.Variable(0.0, trainable=False)\n        # Get all TensorFlow variables marked as \"trainable\" (i.e. all of them except _lr, which we just created)\n        tvars = tf.trainable_variables()\n        # Define the gradient clipping threshold\n        grads, _ = tf.clip_by_global_norm(tf.gradients(self._cost, tvars), max_grad_norm)\n        # Create the gradient descent optimizer with our learning rate\n        optimizer = tf.train.GradientDescentOptimizer(self.lr)\n        # Create the training TensorFlow Operation through our optimizer\n        self._train_op = optimizer.apply_gradients(zip(grads, tvars))\n\n    # Helper functions for our LSTM RNN class\n\n    # Assign the learning rate for this model\n    def assign_lr(self, session, lr_value):\n        session.run(tf.assign(self.lr, lr_value))\n\n    # Returns the input data for this model at a point in time\n    @property\n    def input_data(self):\n        return self._input_data\n\n\n    \n    # Returns the targets for this model at a point in time\n    @property\n    def targets(self):\n        return self._targets\n\n    # Returns the initial state for this model\n    @property\n    def initial_state(self):\n        return self._initial_state\n\n    # Returns the defined Cost\n    @property\n    def cost(self):\n        return self._cost\n\n    # Returns the final state for this model\n    @property\n    def final_state(self):\n        return self._final_state\n    \n    # Returns the final output words for this model\n    @property\n    def final_output_words(self):\n        return self._output_words\n    \n    # Returns the current learning rate for this model\n    @property\n    def lr(self):\n        return self._lr\n\n    # Returns the training operation defined for this model\n    @property\n    def train_op(self):\n        return self._train_op"
        },
        {
            "cell_type": "markdown",
            "metadata": {
                "button": false,
                "new_sheet": false,
                "run_control": {
                    "read_only": false
                }
            },
            "source": "With that, the actual structure of our Recurrent Neural Network with Long Short-Term Memory is finished. What remains for us to do is to actually create the methods to run through time -- that is, the <code>run_epoch</code> method to be run at each epoch and a <code>main</code> script which ties all of this together.\n\nWhat our <code>run_epoch</code> method should do is take our input data and feed it to the relevant operations. This will return at the very least the current result for the cost function."
        },
        {
            "cell_type": "code",
            "execution_count": 48,
            "metadata": {
                "button": false,
                "new_sheet": false,
                "run_control": {
                    "read_only": false
                }
            },
            "outputs": [],
            "source": "##########################################################################################################################\n# run_one_epoch takes as parameters the current session, the model instance, the data to be fed, and the operation to be run #\n##########################################################################################################################\ndef run_one_epoch(session, m, data, eval_op, verbose=False):\n\n    #Define the epoch size based on the length of the data, batch size and the number of steps\n    epoch_size = ((len(data) // m.batch_size) - 1) // m.num_steps\n    start_time = time.time()\n    costs = 0.0\n    iters = 0\n\n    state = session.run(m.initial_state)\n    \n    #For each step and data point\n    for step, (x, y) in enumerate(reader.ptb_iterator(data, m.batch_size, m.num_steps)):\n        \n        #Evaluate and return cost, state by running cost, final_state and the function passed as parameter\n        cost, state, out_words, _ = session.run([m.cost, m.final_state, m.final_output_words, eval_op],\n                                     {m.input_data: x,\n                                      m.targets: y,\n                                      m.initial_state: state})\n\n        #Add returned cost to costs (which keeps track of the total costs for this epoch)\n        costs += cost\n        \n        #Add number of steps to iteration counter\n        iters += m.num_steps\n\n        if verbose and step % (epoch_size // 10) == 10:\n            print(\"Itr %d of %d, perplexity: %.3f speed: %.0f wps\" % (step , epoch_size, np.exp(costs / iters), iters * m.batch_size / (time.time() - start_time)))\n\n    # Returns the Perplexity rating for us to keep track of how the model is evolving\n    return np.exp(costs / iters)\n"
        },
        {
            "cell_type": "markdown",
            "metadata": {
                "button": false,
                "new_sheet": false,
                "run_control": {
                    "read_only": false
                }
            },
            "source": "Now, we create the <code>main</code> method to tie everything together. The code here reads the data from the directory, using the <code>reader</code> helper module, and then trains and evaluates the model on both a testing and a validating subset of data."
        },
        {
            "cell_type": "code",
            "execution_count": 49,
            "metadata": {
                "button": false,
                "new_sheet": false,
                "run_control": {
                    "read_only": false
                }
            },
            "outputs": [],
            "source": "# Reads the data and separates it into training data, validation data and testing data\nraw_data = reader.ptb_raw_data(data_dir)\ntrain_data, valid_data, test_data, _, _ = raw_data"
        },
        {
            "cell_type": "code",
            "execution_count": 50,
            "metadata": {
                "button": false,
                "new_sheet": false,
                "run_control": {
                    "read_only": false
                }
            },
            "outputs": [
                {
                    "name": "stdout",
                    "output_type": "stream",
                    "text": "Epoch 1 : Learning rate: 1.000\nItr 10 of 774, perplexity: 4504.436 speed: 394 wps\nItr 87 of 774, perplexity: 1272.614 speed: 334 wps\nItr 164 of 774, perplexity: 977.696 speed: 338 wps\nItr 241 of 774, perplexity: 815.126 speed: 337 wps\nItr 318 of 774, perplexity: 719.416 speed: 336 wps\nItr 395 of 774, perplexity: 641.098 speed: 336 wps\nItr 472 of 774, perplexity: 580.449 speed: 335 wps\nItr 549 of 774, perplexity: 526.218 speed: 333 wps\nItr 626 of 774, perplexity: 483.658 speed: 333 wps\nItr 703 of 774, perplexity: 449.725 speed: 332 wps\nEpoch 1 : Train Perplexity: 425.993\nEpoch 1 : Valid Perplexity: 266.459\nEpoch 2 : Learning rate: 1.000\nItr 10 of 774, perplexity: 274.111 speed: 319 wps\nItr 87 of 774, perplexity: 237.289 speed: 329 wps\nItr 164 of 774, perplexity: 227.412 speed: 325 wps\nItr 241 of 774, perplexity: 217.738 speed: 327 wps\nItr 318 of 774, perplexity: 215.620 speed: 328 wps\nItr 395 of 774, perplexity: 209.938 speed: 328 wps\nItr 472 of 774, perplexity: 205.847 speed: 326 wps\nItr 549 of 774, perplexity: 199.199 speed: 325 wps\nItr 626 of 774, perplexity: 193.630 speed: 325 wps\nItr 703 of 774, perplexity: 189.531 speed: 326 wps\nEpoch 2 : Train Perplexity: 186.879\nEpoch 2 : Valid Perplexity: 174.071\nTest Perplexity: 169.959\n"
                }
            ],
            "source": "# Initializes the Execution Graph and the Session\nwith tf.Graph().as_default(), tf.Session() as session:\n    initializer = tf.random_uniform_initializer(-init_scale, init_scale)\n    \n    # Instantiates the model for training\n    # tf.variable_scope add a prefix to the variables created with tf.get_variable\n    with tf.variable_scope(\"model\", reuse=None, initializer=initializer):\n        m = PTBModel(\"is_training\")\n        \n    # Reuses the trained parameters for the validation and testing models\n    # They are different instances but use the same variables for weights and biases, they just don't change when data is input\n    with tf.variable_scope(\"model\", reuse=True, initializer=initializer):\n        mvalid = PTBModel(\"is_validating\")\n        mtest = PTBModel(\"is_testing\")\n\n    #Initialize all variables\n    tf.global_variables_initializer().run()\n\n    for i in range(max_epoch):\n        # Define the decay for this epoch\n        lr_decay = decay ** max(i - max_epoch_decay_lr, 0.0)\n        \n        # Set the decayed learning rate as the learning rate for this epoch\n        m.assign_lr(session, learning_rate * lr_decay)\n\n        print(\"Epoch %d : Learning rate: %.3f\" % (i + 1, session.run(m.lr)))\n        \n        # Run the loop for this epoch in the training model\n        train_perplexity = run_one_epoch(session, m, train_data, m.train_op, verbose=True)\n        print(\"Epoch %d : Train Perplexity: %.3f\" % (i + 1, train_perplexity))\n        \n        # Run the loop for this epoch in the validation model\n        valid_perplexity = run_one_epoch(session, mvalid, valid_data, tf.no_op())\n        print(\"Epoch %d : Valid Perplexity: %.3f\" % (i + 1, valid_perplexity))\n    \n    # Run the loop in the testing model to see how effective was our training\n    test_perplexity = run_one_epoch(session, mtest, test_data, tf.no_op())\n    \n    print(\"Test Perplexity: %.3f\" % test_perplexity)"
        },
        {
            "cell_type": "markdown",
            "metadata": {
                "button": false,
                "new_sheet": false,
                "run_control": {
                    "read_only": false
                }
            },
            "source": "As you can see, the model's perplexity rating drops very quickly after a few iterations. As was elaborated before, <b>lower Perplexity means that the model is more certain about its prediction</b>. As such, we can be sure that this model is performing well!"
        },
        {
            "cell_type": "markdown",
            "metadata": {
                "button": false,
                "new_sheet": false,
                "run_control": {
                    "read_only": false
                }
            },
            "source": "-------"
        },
        {
            "cell_type": "markdown",
            "metadata": {
                "button": false,
                "new_sheet": false,
                "run_control": {
                    "read_only": false
                }
            },
            "source": "This is the end of the <b>Applying Recurrent Neural Networks to Text Processing</b> notebook. Hopefully you now have a better understanding of Recurrent Neural Networks and how to implement one utilizing TensorFlow. Thank you for reading this notebook, and good luck on your studies."
        }
    ],
    "metadata": {
        "anaconda-cloud": {},
        "kernelspec": {
            "display_name": "Python 3.6",
            "language": "python",
            "name": "python3"
        },
        "language_info": {
            "codemirror_mode": {
                "name": "ipython",
                "version": 3
            },
            "file_extension": ".py",
            "mimetype": "text/x-python",
            "name": "python",
            "nbconvert_exporter": "python",
            "pygments_lexer": "ipython3",
            "version": "3.6.9"
        },
        "widgets": {
            "state": {},
            "version": "1.1.2"
        }
    },
    "nbformat": 4,
    "nbformat_minor": 4
}